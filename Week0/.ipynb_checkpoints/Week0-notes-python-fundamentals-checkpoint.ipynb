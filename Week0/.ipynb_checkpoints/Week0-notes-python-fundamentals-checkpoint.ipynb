{
 "cells": [
  {
   "cell_type": "markdown",
   "id": "c0189d38",
   "metadata": {},
   "source": [
    "# Creating variables"
   ]
  },
  {
   "cell_type": "markdown",
   "id": "00b19746",
   "metadata": {},
   "source": [
    "In this notebook we will look into the concept of variables.\n",
    "\n",
    "Python, like R, is a dynamically-typed language, meaning you can change the class/type of a variable on the go. This is convenient in many places, but dangerous in many other ways. It is impossible to rely on the type of the variable, and you should always retrace your steps throughout the code to see what the variable is currently representing. This is sometimes hard, especially in places like this notebook where we can execute different bits of code in any order."
   ]
  },
  {
   "cell_type": "markdown",
   "id": "e71fb021",
   "metadata": {},
   "source": [
    "## Intro and strings"
   ]
  },
  {
   "cell_type": "markdown",
   "id": "05573d50",
   "metadata": {},
   "source": [
    "Let's create a variable:"
   ]
  },
  {
   "cell_type": "code",
   "execution_count": 1,
   "id": "04ed321b",
   "metadata": {},
   "outputs": [
    {
     "data": {
      "text/plain": [
       "'Edinburgh'"
      ]
     },
     "execution_count": 1,
     "metadata": {},
     "output_type": "execute_result"
    }
   ],
   "source": [
    "name = \"Edinburgh\"\n",
    "name"
   ]
  },
  {
   "cell_type": "markdown",
   "id": "7ca1cc62",
   "metadata": {},
   "source": [
    "This generates a string variable. They can be easily printed, although it is safer to use the print function:"
   ]
  },
  {
   "cell_type": "code",
   "execution_count": 2,
   "id": "3693fa8a",
   "metadata": {},
   "outputs": [
    {
     "name": "stdout",
     "output_type": "stream",
     "text": [
      "Edinburgh\n"
     ]
    }
   ],
   "source": [
    "print(name)"
   ]
  },
  {
   "cell_type": "markdown",
   "id": "c4dcf41f",
   "metadata": {},
   "source": [
    "It is also wise to check the type of the variable, in case you are lost:"
   ]
  },
  {
   "cell_type": "code",
   "execution_count": 4,
   "id": "5fde4af6",
   "metadata": {},
   "outputs": [
    {
     "data": {
      "text/plain": [
       "str"
      ]
     },
     "execution_count": 4,
     "metadata": {},
     "output_type": "execute_result"
    }
   ],
   "source": [
    "type(name)"
   ]
  },
  {
   "cell_type": "markdown",
   "id": "e4cd657a",
   "metadata": {},
   "source": [
    "This confirms that we are dealing with a string. There are a few things we can do with strings (which we can denote by using one or two apostrophes):"
   ]
  },
  {
   "cell_type": "code",
   "execution_count": 5,
   "id": "a291f185",
   "metadata": {},
   "outputs": [
    {
     "name": "stdout",
     "output_type": "stream",
     "text": [
      "university of edinburgh\n",
      "UNIVERSITY OF EDINBURGH\n",
      "University Of Edinburgh\n"
     ]
    }
   ],
   "source": [
    "name = 'university of edinburgh'\n",
    "print(name.lower())\n",
    "print(name.upper())\n",
    "print(name.title())"
   ]
  },
  {
   "cell_type": "markdown",
   "id": "3bb306df",
   "metadata": {},
   "source": [
    "We can concatenate strings easily using +, or using a comma in a print statement:"
   ]
  },
  {
   "cell_type": "code",
   "execution_count": 6,
   "id": "bf70b9cb",
   "metadata": {},
   "outputs": [
    {
     "name": "stdout",
     "output_type": "stream",
     "text": [
      "University of Edinburgh\n",
      "University of Edinburgh\n"
     ]
    }
   ],
   "source": [
    "print('University', 'of Edinburgh')\n",
    "print('University' + ' ' + 'of Edinburgh')"
   ]
  },
  {
   "cell_type": "markdown",
   "id": "cf882051",
   "metadata": {},
   "source": [
    "Writing print('The University of Edinburgh is '+ 439) will not work, as the + operator only works for strings, we can convert any object into a string however:"
   ]
  },
  {
   "cell_type": "code",
   "execution_count": 7,
   "id": "8d05c430",
   "metadata": {},
   "outputs": [
    {
     "name": "stdout",
     "output_type": "stream",
     "text": [
      "The University of Edinburgh is 439\n"
     ]
    }
   ],
   "source": [
    "print('The University of Edinburgh is '+ str(439))"
   ]
  },
  {
   "cell_type": "markdown",
   "id": "2eafc9d8",
   "metadata": {},
   "source": [
    "A few other useful tricks:"
   ]
  },
  {
   "cell_type": "code",
   "execution_count": 8,
   "id": "ae956e82",
   "metadata": {},
   "outputs": [
    {
     "name": "stdout",
     "output_type": "stream",
     "text": [
      "|edinburgh |\n",
      "| edinburgh|\n",
      "|edinburgh|\n"
     ]
    }
   ],
   "source": [
    "name = \" edinburgh \"\n",
    "print(\"|\"+name.lstrip()+\"|\")\n",
    "print(\"|\"+name.rstrip()+\"|\")\n",
    "print(\"|\"+name.strip()+\"|\")"
   ]
  },
  {
   "cell_type": "markdown",
   "id": "6e8084d7",
   "metadata": {},
   "source": [
    "You can use control characters as well:"
   ]
  },
  {
   "cell_type": "code",
   "execution_count": 9,
   "id": "6b39f374",
   "metadata": {},
   "outputs": [
    {
     "name": "stdout",
     "output_type": "stream",
     "text": [
      "Edinburgh\thas a university\n",
      "running web & social network analytics course\n"
     ]
    }
   ],
   "source": [
    "print('Edinburgh\\thas a university\\nrunning web & social network analytics course')"
   ]
  },
  {
   "cell_type": "markdown",
   "id": "b8373078",
   "metadata": {},
   "source": [
    "## Numbers"
   ]
  },
  {
   "cell_type": "code",
   "execution_count": 10,
   "id": "2051c852",
   "metadata": {},
   "outputs": [
    {
     "name": "stdout",
     "output_type": "stream",
     "text": [
      "a: \t\t\t10\n",
      "b: \t\t\t-10.1023\n",
      "absolute of b: \t\t10.1023\n",
      "rounded b: \t\t-10.102\n",
      "square of a: \t\t100\n",
      "cube of a: \t\t1000\n",
      "integer part of b: \t-10\n"
     ]
    }
   ],
   "source": [
    "a = 10\n",
    "b = -10.1023\n",
    "\n",
    "#Some operations illustrated (\\t stands for a tab)\n",
    "print(\"a: \\t\\t\\t\" + str(a))\n",
    "print(\"b: \\t\\t\\t\" + str(b))\n",
    "print(\"absolute of b: \\t\\t\" + str(abs(b)))\n",
    "print(\"rounded b: \\t\\t\" + str(round(b,3)))\n",
    "print(\"square of a: \\t\\t\" + str(pow(a,2)))\n",
    "print(\"cube of a: \\t\\t\" + str(a**3))\n",
    "print(\"integer part of b: \\t\" + str(int(b)))"
   ]
  },
  {
   "cell_type": "code",
   "execution_count": null,
   "id": "3450c9c8",
   "metadata": {},
   "outputs": [],
   "source": []
  },
  {
   "cell_type": "markdown",
   "id": "70a7a9ac",
   "metadata": {},
   "source": [
    "# Flow Control"
   ]
  },
  {
   "cell_type": "markdown",
   "id": "dc967a17",
   "metadata": {},
   "source": [
    "Control flow statements help you to structure the code and direct it towards your convenience and introduce loops and so on."
   ]
  },
  {
   "cell_type": "markdown",
   "id": "169fa902",
   "metadata": {},
   "source": [
    "## If statements"
   ]
  },
  {
   "cell_type": "code",
   "execution_count": 11,
   "id": "940e7128",
   "metadata": {},
   "outputs": [
    {
     "name": "stdout",
     "output_type": "stream",
     "text": [
      "Price is negative!\n"
     ]
    }
   ],
   "source": [
    "price = -5;\n",
    "\n",
    "if price <0:\n",
    "    print(\"Price is negative!\")\n",
    "elif price <1:\n",
    "    print(\"Price is too small!\")\n",
    "else:\n",
    "    print(\"Price is suitable.\")"
   ]
  },
  {
   "cell_type": "markdown",
   "id": "2765d129",
   "metadata": {},
   "source": [
    "Especially in text mining, comparing strings is very important:"
   ]
  },
  {
   "cell_type": "code",
   "execution_count": 12,
   "id": "f409256d",
   "metadata": {},
   "outputs": [
    {
     "name": "stdout",
     "output_type": "stream",
     "text": [
      "Not equal\n",
      "Equal\n"
     ]
    }
   ],
   "source": [
    "#Comparing strings\n",
    "name1 = \"edinburgh\"\n",
    "name2 = \"Edinburgh\"\n",
    "\n",
    "if name1 == name2:\n",
    "    print(\"Equal\")\n",
    "else:\n",
    "    print(\"Not equal\")\n",
    "\n",
    "if name1.lower() == name2.lower():\n",
    "    print(\"Equal\")\n",
    "else:\n",
    "    print(\"Not equal\")"
   ]
  },
  {
   "cell_type": "markdown",
   "id": "f5f9e879",
   "metadata": {},
   "source": [
    "Using multiple conditions:"
   ]
  },
  {
   "cell_type": "code",
   "execution_count": 13,
   "id": "f9404073",
   "metadata": {},
   "outputs": [
    {
     "name": "stdout",
     "output_type": "stream",
     "text": [
      "Number is between 1 and 10\n",
      "Number is lower than 5 or the name contains a 'j'\n"
     ]
    }
   ],
   "source": [
    "number = 9\n",
    "if number > 1 and not number > 9:\n",
    "    print(\"Number is between 1 and 10\")\n",
    "    \n",
    "number = 9\n",
    "name = 'johannes'\n",
    "if number < 5 or 'j' in name:\n",
    "    print(\"Number is lower than 5 or the name contains a 'j'\")"
   ]
  },
  {
   "cell_type": "markdown",
   "id": "accb56b6",
   "metadata": {},
   "source": [
    "## While loops"
   ]
  },
  {
   "cell_type": "code",
   "execution_count": 14,
   "id": "169961cf",
   "metadata": {},
   "outputs": [
    {
     "name": "stdout",
     "output_type": "stream",
     "text": [
      "4\n",
      "3\n",
      "2\n"
     ]
    }
   ],
   "source": [
    "number = 4\n",
    "while number > 1:\n",
    "    print(number)\n",
    "    number = number -1"
   ]
  },
  {
   "cell_type": "markdown",
   "id": "3f8ed2d6",
   "metadata": {},
   "source": [
    "## For loops"
   ]
  },
  {
   "cell_type": "markdown",
   "id": "f8a01e99",
   "metadata": {},
   "source": [
    "For loops allow you to iteratre over elements in a certain collection, for example a list:"
   ]
  },
  {
   "cell_type": "code",
   "execution_count": 15,
   "id": "cc9706b4",
   "metadata": {},
   "outputs": [
    {
     "name": "stdout",
     "output_type": "stream",
     "text": [
      "1\n",
      "2\n",
      "3\n",
      "4\n"
     ]
    }
   ],
   "source": [
    "# We'll look into lists in a minute\n",
    "number_list = [1, 2, 3, 4]\n",
    "for item in number_list:\n",
    "    print(item)"
   ]
  },
  {
   "cell_type": "code",
   "execution_count": 16,
   "id": "9b3d30db",
   "metadata": {},
   "outputs": [
    {
     "name": "stdout",
     "output_type": "stream",
     "text": [
      "a\n",
      "b\n",
      "c\n"
     ]
    }
   ],
   "source": [
    "list = ['a', 'b', 'c']\n",
    "for item in list:\n",
    "    print(item)"
   ]
  },
  {
   "cell_type": "markdown",
   "id": "3247e0db",
   "metadata": {},
   "source": [
    "Ranges are also useful. Note that the upper element is not included and we can adjust the step size:"
   ]
  },
  {
   "cell_type": "code",
   "execution_count": 17,
   "id": "a33b9e0d",
   "metadata": {},
   "outputs": [
    {
     "name": "stdout",
     "output_type": "stream",
     "text": [
      "1\n",
      "2\n",
      "3\n"
     ]
    }
   ],
   "source": [
    "for i in range(1,4):\n",
    "    print(i)"
   ]
  },
  {
   "cell_type": "code",
   "execution_count": 18,
   "id": "72b986a5",
   "metadata": {},
   "outputs": [
    {
     "name": "stdout",
     "output_type": "stream",
     "text": [
      "30\n",
      "40\n",
      "50\n",
      "60\n",
      "70\n",
      "80\n",
      "90\n"
     ]
    }
   ],
   "source": [
    "for i in range(30,100, 10):\n",
    "    print(i)"
   ]
  },
  {
   "cell_type": "markdown",
   "id": "9ac618bb",
   "metadata": {},
   "source": [
    "## Indentation"
   ]
  },
  {
   "cell_type": "markdown",
   "id": "e37bf36d",
   "metadata": {},
   "source": [
    "Please be very careful with indentation"
   ]
  },
  {
   "cell_type": "code",
   "execution_count": 19,
   "id": "8173b90e",
   "metadata": {},
   "outputs": [
    {
     "name": "stdout",
     "output_type": "stream",
     "text": [
      "No indent (no tabs used)\n",
      "\tNumber 1 higher than 1.\n",
      "\tnumber 2 higher than 5\n",
      "No indent (no tabs used)\n",
      "\tNumber 1 higher than 1.\n",
      "\t\tnumber 2 higher than 5\n",
      "\tnumber 2 higher than 5\n"
     ]
    }
   ],
   "source": [
    "number_1 = 3\n",
    "number_2 = 5\n",
    "\n",
    "print('No indent (no tabs used)')\n",
    "if number_1 > 1:\n",
    "    print('\\tNumber 1 higher than 1.')\n",
    "    if number_2 > 5:\n",
    "        print('\\t\\tnumber 2 higher than 5')\n",
    "    print('\\tnumber 2 higher than 5')\n",
    "\n",
    "number_1 = 3\n",
    "number_2 = 6\n",
    "\n",
    "print('No indent (no tabs used)')\n",
    "if number_1 > 1:\n",
    "    print('\\tNumber 1 higher than 1.')\n",
    "    if number_2 > 5:\n",
    "        print('\\t\\tnumber 2 higher than 5')\n",
    "    print('\\tnumber 2 higher than 5')"
   ]
  },
  {
   "cell_type": "code",
   "execution_count": null,
   "id": "add94426",
   "metadata": {},
   "outputs": [],
   "source": []
  },
  {
   "cell_type": "markdown",
   "id": "45dc1477",
   "metadata": {},
   "source": [
    "# List & Tuple"
   ]
  },
  {
   "cell_type": "markdown",
   "id": "ce98fa71",
   "metadata": {},
   "source": [
    "## Lists"
   ]
  },
  {
   "cell_type": "markdown",
   "id": "cc991a37",
   "metadata": {},
   "source": [
    "Lists are great for collecting anything. They can contain objects of different types. For example:"
   ]
  },
  {
   "cell_type": "code",
   "execution_count": 20,
   "id": "e03c05d7",
   "metadata": {},
   "outputs": [],
   "source": [
    "names = [5, \"Giovanni\", \"Rose\", \"Yongzhe\", \"Luciana\", \"Imani\"]"
   ]
  },
  {
   "cell_type": "markdown",
   "id": "d34b62f1",
   "metadata": {},
   "source": [
    "Although that is not best practice. Let's start with a list of names:"
   ]
  },
  {
   "cell_type": "code",
   "execution_count": 21,
   "id": "777d23cc",
   "metadata": {},
   "outputs": [],
   "source": [
    "names = [\"Johannes\", \"Giovanni\", \"Rose\", \"Yongzhe\", \"Luciana\", \"Imani\"]"
   ]
  },
  {
   "cell_type": "code",
   "execution_count": 22,
   "id": "2fd46752",
   "metadata": {},
   "outputs": [
    {
     "name": "stdout",
     "output_type": "stream",
     "text": [
      "Name: Johannes\n",
      "Name: Giovanni\n",
      "Name: Rose\n",
      "Name: Yongzhe\n",
      "Name: Luciana\n",
      "Name: Imani\n",
      "GIOVANNI\n",
      "IMANI\n",
      "LUCIANA\n",
      "First three: ['Johannes', 'Giovanni', 'Rose']\n",
      "First four: ['Johannes', 'Giovanni', 'Rose', 'Yongzhe']\n",
      "Up until the second to last one: ['Johannes', 'Giovanni', 'Rose', 'Yongzhe']\n",
      "Last two: ['Luciana', 'Imani']\n"
     ]
    }
   ],
   "source": [
    "# Loop names\n",
    "for name in names:\n",
    "    print('Name: '+name)\n",
    "\n",
    "# Get 'Giovanni' from list\n",
    "# Lists start counting at 0\n",
    "giovanni = names[1]\n",
    "print(giovanni.upper())\n",
    "\n",
    "# Get last item\n",
    "name = names[-1]\n",
    "print(name.upper())\n",
    "\n",
    "# Get second to last item\n",
    "name = names[-2]\n",
    "print(name.upper())\n",
    "\n",
    "print(\"First three: \"+str(names[0:3]))\n",
    "print(\"First four: \"+str(names[:4]))\n",
    "print(\"Up until the second to last one: \"+str(names[:-2]))\n",
    "print(\"Last two: \"+str(names[-2:]))"
   ]
  },
  {
   "cell_type": "markdown",
   "id": "a55ae367",
   "metadata": {},
   "source": [
    "## Enumeration"
   ]
  },
  {
   "cell_type": "markdown",
   "id": "30b73fb1",
   "metadata": {},
   "source": [
    "We can enumerate collections/lists that adds an index to every element:"
   ]
  },
  {
   "cell_type": "code",
   "execution_count": 23,
   "id": "d8ffa05b",
   "metadata": {},
   "outputs": [
    {
     "name": "stdout",
     "output_type": "stream",
     "text": [
      "0   Johannes  is in the list.\n",
      "1   Giovanni  is in the list.\n",
      "2   Rose  is in the list.\n",
      "3   Yongzhe  is in the list.\n",
      "4   Luciana  is in the list.\n",
      "5   Imani  is in the list.\n"
     ]
    }
   ],
   "source": [
    "for index, name in enumerate(names):\n",
    "    print(str(index) , \" \" , name, \" is in the list.\")"
   ]
  },
  {
   "cell_type": "markdown",
   "id": "d884a0f2",
   "metadata": {},
   "source": [
    "## Searching and editing"
   ]
  },
  {
   "cell_type": "code",
   "execution_count": 24,
   "id": "c5f1f10c",
   "metadata": {},
   "outputs": [
    {
     "name": "stdout",
     "output_type": "stream",
     "text": [
      "0\n",
      "['Johannes', 'Giovanni', 'Roberta', 'Rose', 'Yongzhe', 'Luciana', 'Imani', 'Kumiko']\n",
      "Fruits:  ['orange']\n",
      "['Johannes', 'Giovanni', 'Roberta', 'Rose', 'Yongzhe', 'Tom', 'Imani', 'Kumiko']\n",
      "True\n",
      "Length of the list: 8\n"
     ]
    }
   ],
   "source": [
    "names = [\"Johannes\", \"Giovanni\", \"Rose\", \"Yongzhe\", \"Luciana\", \"Imani\"]\n",
    "\n",
    "# Finding an element\n",
    "print(names.index(\"Johannes\"))\n",
    "\n",
    "# Adding an element\n",
    "names.append(\"Kumiko\")\n",
    "\n",
    "# Adding an element at a specific location\n",
    "names.insert(2, \"Roberta\")\n",
    "\n",
    "print(names)\n",
    "\n",
    "#Removal\n",
    "fruits = [\"apple\",\"orange\",\"pear\"]\n",
    "del fruits[0]\n",
    "fruits.remove(\"pear\")\n",
    "print('Fruits: ', fruits)\n",
    "\n",
    "# Modifying an element\n",
    "names[5] = \"Tom\"\n",
    "print(names)\n",
    "\n",
    "# Test whether an item is in the list (best do this before removing to avoid raising errors)\n",
    "print(\"Tom\" in names)\n",
    "\n",
    "# Length of a list\n",
    "print(\"Length of the list: \" + str(len(names)))"
   ]
  },
  {
   "cell_type": "markdown",
   "id": "68c2cd85",
   "metadata": {},
   "source": [
    "Python starts at 0!!!"
   ]
  },
  {
   "cell_type": "markdown",
   "id": "461ee0a0",
   "metadata": {},
   "source": [
    "## Sorting and copying"
   ]
  },
  {
   "cell_type": "code",
   "execution_count": 25,
   "id": "df9e8754",
   "metadata": {},
   "outputs": [
    {
     "name": "stdout",
     "output_type": "stream",
     "text": [
      "['Giovanni', 'Imani', 'Johannes', 'Kumiko', 'Roberta', 'Rose', 'Tom', 'Yongzhe']\n",
      "['Johannes', 'Giovanni', 'Roberta', 'Rose', 'Yongzhe', 'Tom', 'Imani', 'Kumiko']\n",
      "Sorted names: ['Giovanni', 'Imani', 'Johannes', 'Kumiko', 'Roberta', 'Rose', 'Tom', 'Yongzhe']\n",
      "Reverse sorted names: ['Yongzhe', 'Tom', 'Rose', 'Roberta', 'Kumiko', 'Johannes', 'Imani', 'Giovanni']\n"
     ]
    }
   ],
   "source": [
    "# Temporary sorting:\n",
    "print(sorted(names))\n",
    "print(names)\n",
    "\n",
    "# Make changes permanent\n",
    "names.sort()\n",
    "print(\"Sorted names: \" + str(names))\n",
    "names.sort(reverse=True)\n",
    "print(\"Reverse sorted names: \" + str(names))"
   ]
  },
  {
   "cell_type": "code",
   "execution_count": 26,
   "id": "84e7c067",
   "metadata": {},
   "outputs": [
    {
     "name": "stdout",
     "output_type": "stream",
     "text": [
      "['Yongzhe', 'Tom', 'Rose', 'Roberta', 'Kumiko', 'Imani', 'Giovanni']\n",
      "['Yongzhe', 'Tom', 'Rose', 'Roberta', 'Kumiko', 'Imani', 'Giovanni']\n",
      "After deep copy\n",
      "['Yongzhe', 'Tom', 'Rose', 'Roberta', 'Kumiko', 'Imani']\n",
      "['Yongzhe', 'Tom', 'Rose', 'Roberta', 'Kumiko', 'Imani', 'Giovanni']\n",
      "['Yongzhe', 'Tom', 'Rose', 'Roberta', 'Kumiko', 'Imani', 'Giovanni']\n"
     ]
    }
   ],
   "source": [
    "# Copying list (a shallow copy just duplicates the pointer to the memory address)\n",
    "namez = names\n",
    "namez.remove(\"Johannes\")\n",
    "print(namez)\n",
    "print(names)\n",
    "\n",
    "# Now a 'deep' copy\n",
    "print(\"After deep copy\")\n",
    "\n",
    "namez = names.copy()\n",
    "namez.remove(\"Giovanni\")\n",
    "print(namez)\n",
    "print(names)\n",
    "\n",
    "#Alternative\n",
    "namez = names[:]\n",
    "print(namez)"
   ]
  },
  {
   "cell_type": "markdown",
   "id": "04b09f6c",
   "metadata": {},
   "source": [
    "## Strings as lists"
   ]
  },
  {
   "cell_type": "markdown",
   "id": "17691f27",
   "metadata": {},
   "source": [
    "Strings can be manipulated and used just like lists. This is especially handy in text mining:"
   ]
  },
  {
   "cell_type": "code",
   "execution_count": 27,
   "id": "e951889f",
   "metadata": {},
   "outputs": [
    {
     "name": "stdout",
     "output_type": "stream",
     "text": [
      "Last nine letters: analytics\n",
      "Analytics in course title? True\n",
      "Start location of 'analytics': 11\n",
      "Predictive analysis\n",
      "Word  0 : Predictive\n",
      "Word  1 : analytics\n"
     ]
    }
   ],
   "source": [
    "course = \"Predictive analytics\"\n",
    "print(\"Last nine letters: \"+course[-9:])\n",
    "print(\"Analytics in course title? \" + str(\"analytics\" in course))\n",
    "print(\"Start location of 'analytics': \" + str(course.find(\"analytics\")))\n",
    "print(course.replace(\"analytics\",\"analysis\"))\n",
    "list_of_words = course.split(\" \")\n",
    "for index, word in enumerate(list_of_words):\n",
    "    print(\"Word \", index, \": \"+word)"
   ]
  },
  {
   "cell_type": "markdown",
   "id": "b34b91b7",
   "metadata": {},
   "source": [
    "## Sets"
   ]
  },
  {
   "cell_type": "markdown",
   "id": "d9e3e45b",
   "metadata": {},
   "source": [
    "Sets only contain unique elements. They have to be declared upfront using set() and allow for operations such as intersection():"
   ]
  },
  {
   "cell_type": "code",
   "execution_count": 28,
   "id": "cf0f6487",
   "metadata": {},
   "outputs": [
    {
     "name": "stdout",
     "output_type": "stream",
     "text": [
      "{'Yongzhe', 'Kumiko', 'Roberta', 'Giovanni', 'Tom', 'Imani', 'Rose'}\n",
      "{'Yongzhe', 'Kumiko', 'Roberta', 'Giovanni', 'Tom', 'Imani', 'Galina', 'Rose'}\n",
      "{'Yongzhe', 'Kumiko', 'Roberta', 'Giovanni', 'Tom', 'Imani', 'Galina', 'Rose'}\n",
      "{'Yongzhe', 'Kumiko', 'Roberta', 'Giovanni', 'Imani', 'Galina'}\n",
      "{'Tom', 'Rose'}\n"
     ]
    }
   ],
   "source": [
    "name_set = set(names)\n",
    "print(name_set)\n",
    "\n",
    "# Add an element\n",
    "name_set.add(\"Galina\")\n",
    "print(name_set)\n",
    "\n",
    "# Discard an element\n",
    "name_set.discard(\"Johannes\")\n",
    "print(name_set)\n",
    "\n",
    "name_set2 = set([\"Rose\", \"Tom\"])\n",
    "# Difference and intersection\n",
    "difference = name_set - name_set2\n",
    "print(difference)\n",
    "intersection = name_set.intersection(name_set2)\n",
    "print(intersection)"
   ]
  },
  {
   "cell_type": "code",
   "execution_count": null,
   "id": "d8df1700",
   "metadata": {},
   "outputs": [],
   "source": []
  },
  {
   "cell_type": "markdown",
   "id": "ed17494d",
   "metadata": {},
   "source": [
    "# Dictionary & Function"
   ]
  },
  {
   "cell_type": "markdown",
   "id": "50fa08db",
   "metadata": {},
   "source": [
    "## Dictionaries"
   ]
  },
  {
   "cell_type": "markdown",
   "id": "99a5b08a",
   "metadata": {},
   "source": [
    "Dictionaries are a great way to store particular data as key-value pairs, which mimics the basic structure of a simple database."
   ]
  },
  {
   "cell_type": "code",
   "execution_count": 29,
   "id": "0ce1570c",
   "metadata": {},
   "outputs": [
    {
     "name": "stdout",
     "output_type": "stream",
     "text": [
      "Johannes teaches Predictive analytics\n",
      "Kumiko teaches Prescriptive analytics\n",
      "Luciana teaches Descriptive analytics\n"
     ]
    }
   ],
   "source": [
    "courses = {\"Johannes\" : \"Predictive analytics\", \"Kumiko\" : \"Prescriptive analytics\", \"Luciana\" : \"Descriptive analytics\"}\n",
    "\n",
    "for organizer in courses:\n",
    "    print(organizer + \" teaches \" + courses[organizer])"
   ]
  },
  {
   "cell_type": "markdown",
   "id": "7bd6afcd",
   "metadata": {},
   "source": [
    "We can also write:"
   ]
  },
  {
   "cell_type": "code",
   "execution_count": 30,
   "id": "50419e8f",
   "metadata": {},
   "outputs": [
    {
     "name": "stdout",
     "output_type": "stream",
     "text": [
      "Johannes teaches Predictive analytics\n",
      "Kumiko teaches Prescriptive analytics\n",
      "Luciana teaches Descriptive analytics\n"
     ]
    }
   ],
   "source": [
    "for organizer, course in courses.items():\n",
    "    print(organizer + \" teaches \" + course)"
   ]
  },
  {
   "cell_type": "code",
   "execution_count": 31,
   "id": "c7728834",
   "metadata": {},
   "outputs": [
    {
     "name": "stdout",
     "output_type": "stream",
     "text": [
      "{'Johannes': 'Predictive analytics', 'Kumiko': 'Prescriptive analytics', 'Luciana': 'Descriptive analytics', 'Imani': 'Other analytics'}\n",
      "{'Johannes': 'Business analytics', 'Kumiko': 'Prescriptive analytics', 'Luciana': 'Descriptive analytics', 'Imani': 'Other analytics'}\n"
     ]
    }
   ],
   "source": [
    "# Adding items\n",
    "courses[\"Imani\"] = \"Other analytics\"\n",
    "print(courses)\n",
    "\n",
    "# Overwrite\n",
    "courses[\"Johannes\"] = \"Business analytics\"\n",
    "print(courses)"
   ]
  },
  {
   "cell_type": "code",
   "execution_count": 32,
   "id": "a38f7386",
   "metadata": {},
   "outputs": [
    {
     "name": "stdout",
     "output_type": "stream",
     "text": [
      "{'Kumiko': 'Prescriptive analytics', 'Luciana': 'Descriptive analytics', 'Imani': 'Other analytics'}\n"
     ]
    }
   ],
   "source": [
    "# Remove\n",
    "del courses[\"Johannes\"]\n",
    "print(courses)"
   ]
  },
  {
   "cell_type": "code",
   "execution_count": 33,
   "id": "8d3ff4a0",
   "metadata": {},
   "outputs": [
    {
     "name": "stdout",
     "output_type": "stream",
     "text": [
      "Prescriptive analytics\n",
      "Descriptive analytics\n",
      "Other analytics\n"
     ]
    }
   ],
   "source": [
    "# Looping values\n",
    "for course in courses.values():\n",
    "    print(course)"
   ]
  },
  {
   "cell_type": "code",
   "execution_count": 34,
   "id": "a8aeff51",
   "metadata": {},
   "outputs": [
    {
     "name": "stdout",
     "output_type": "stream",
     "text": [
      "Imani teaches Other analytics\n",
      "Kumiko teaches Prescriptive analytics\n",
      "Luciana teaches Descriptive analytics\n"
     ]
    }
   ],
   "source": [
    "# Sorted output (on keys)\n",
    "for organizer, course in sorted(courses.items()):\n",
    "    print(organizer +\" teaches \" + course)"
   ]
  },
  {
   "cell_type": "markdown",
   "id": "f44c7980",
   "metadata": {},
   "source": [
    "## Functions"
   ]
  },
  {
   "cell_type": "markdown",
   "id": "e43211c6",
   "metadata": {},
   "source": [
    "Functions form the backbone of all code. You have already used some, like print(). They can be easily defined by yourself as well."
   ]
  },
  {
   "cell_type": "code",
   "execution_count": 35,
   "id": "16404b6d",
   "metadata": {},
   "outputs": [],
   "source": [
    "def my_function(a, b):\n",
    "    a = a.title()\n",
    "    b = b.upper()\n",
    "    print(a+ \" \"+b)"
   ]
  },
  {
   "cell_type": "code",
   "execution_count": 36,
   "id": "a4504651",
   "metadata": {},
   "outputs": [],
   "source": [
    "def my_function2(a, b):\n",
    "    a = a.title()\n",
    "    b = b.upper()\n",
    "    return a + \" \" + b"
   ]
  },
  {
   "cell_type": "code",
   "execution_count": 37,
   "id": "a1e8d91c",
   "metadata": {},
   "outputs": [
    {
     "name": "stdout",
     "output_type": "stream",
     "text": [
      "Johannes DE SMEDT\n",
      "Johannes DE SMEDT\n"
     ]
    }
   ],
   "source": [
    "my_function(\"johannes\",\"de smedt\")\n",
    "output = my_function2(\"johannes\",\"de smedt\")\n",
    "print(output)"
   ]
  },
  {
   "cell_type": "markdown",
   "id": "4614004d",
   "metadata": {},
   "source": [
    "Notice how the first function already prints, while the second returns a string we have to print ourselves. Python is weakly-typed, so a function can produce different results, like in this example:"
   ]
  },
  {
   "cell_type": "code",
   "execution_count": 38,
   "id": "13f70a2f",
   "metadata": {},
   "outputs": [
    {
     "name": "stdout",
     "output_type": "stream",
     "text": [
      "1.5\n",
      "a is negative\n"
     ]
    }
   ],
   "source": [
    "# Different output type\n",
    "def calculate_mean(a, b):\n",
    "    if (a>0):\n",
    "        return (a+b)/2\n",
    "    else:\n",
    "        return \"a is negative\"\n",
    "\n",
    "output = calculate_mean(1,2)\n",
    "print(output)\n",
    "output = calculate_mean(0,1)\n",
    "print(output)"
   ]
  },
  {
   "cell_type": "markdown",
   "id": "341cd5f5",
   "metadata": {},
   "source": [
    "## Comprehensions"
   ]
  },
  {
   "cell_type": "markdown",
   "id": "8a3571c1",
   "metadata": {},
   "source": [
    "Comprehensions allow you to quickly/efficiently write lists/dictionaries:"
   ]
  },
  {
   "cell_type": "code",
   "execution_count": 39,
   "id": "a6017f9e",
   "metadata": {},
   "outputs": [
    {
     "name": "stdout",
     "output_type": "stream",
     "text": [
      "[2, 4, 6, 8, 10]\n"
     ]
    }
   ],
   "source": [
    "# Finding even numbers\n",
    "evens = [i for i in range(1,11) if i % 2 ==0]\n",
    "print(evens)"
   ]
  },
  {
   "cell_type": "markdown",
   "id": "16add52e",
   "metadata": {},
   "source": [
    "In Python, you can easily make tuples such as pairs, like here:"
   ]
  },
  {
   "cell_type": "code",
   "execution_count": 40,
   "id": "142c27aa",
   "metadata": {},
   "outputs": [
    {
     "name": "stdout",
     "output_type": "stream",
     "text": [
      "[(6, 5), (7, 5), (7, 6), (8, 5), (8, 6), (8, 7), (9, 5), (9, 6), (9, 7), (9, 8), (10, 5), (10, 6), (10, 7), (10, 8), (10, 9)]\n"
     ]
    }
   ],
   "source": [
    "# Double fun\n",
    "pairs = [(x,y) for x in range(1,11) for y in range(5,11) if x>y]\n",
    "print(pairs)"
   ]
  },
  {
   "cell_type": "markdown",
   "id": "612a3684",
   "metadata": {},
   "source": [
    "They are also useful to perform some pre-processing, e.g., on strings:"
   ]
  },
  {
   "cell_type": "code",
   "execution_count": 41,
   "id": "94634a9c",
   "metadata": {},
   "outputs": [
    {
     "name": "stdout",
     "output_type": "stream",
     "text": [
      "['Jamal', 'Maurizio', 'Johannes']\n",
      "['Jamal', 'Johannes']\n"
     ]
    }
   ],
   "source": [
    "# Operations\n",
    "names = [\"jamal\", \"maurizio\", \"johannes\"]\n",
    "\n",
    "titled_names = [name.title() for name in names]\n",
    "print(titled_names)\n",
    "\n",
    "j_s = [name.title() for name in names if name.lower()[0] == 'j']\n",
    "print(j_s)"
   ]
  },
  {
   "cell_type": "code",
   "execution_count": null,
   "id": "4121f525",
   "metadata": {},
   "outputs": [],
   "source": []
  },
  {
   "cell_type": "markdown",
   "id": "b78d1733",
   "metadata": {},
   "source": [
    "# IO & Library"
   ]
  },
  {
   "cell_type": "markdown",
   "id": "657a4c5c",
   "metadata": {},
   "source": [
    "## Reading files"
   ]
  },
  {
   "cell_type": "markdown",
   "id": "a8590f42",
   "metadata": {},
   "source": [
    "In Python, we can easily open any file type. Naturally, it is most suitable for plainly-structured formats such as .txt., .csv., as so on. You can also open Excel files with appropriate packages, such as pandas (more on this later). Let's read in a .csv file:"
   ]
  },
  {
   "cell_type": "code",
   "execution_count": 44,
   "id": "c4fe85ea",
   "metadata": {},
   "outputs": [
    {
     "name": "stdout",
     "output_type": "stream",
     "text": [
      "Name,Email,City,Salary\n",
      "\n",
      "Brent Hopkins,Cum.sociis.natoque@aodiosemper.edu,Mount Pearl,38363\n",
      "\n",
      "Colt Bender,Vivamus.non.lorem@Proin.org,Castle Douglas,21506\n",
      "\n",
      "Arthur Hammond,nisl.Maecenas@sed.net,Biloxi,27511\n",
      "\n",
      "Sean Warner,enim.nisl.elementum@Vivamus.edu,Moere,25201\n",
      "\n",
      "Tate Greene,velit.justo.nec@aliquetlobortisnisi.edu,Ipswich,35052\n",
      "\n",
      "Gavin Gibson,cursus.Integer.mollis@Duissitamet.org,Oordegem,37126\n",
      "\n",
      "Kelly Garza,cursus.non.egestas@antebibendum.ca,Kukatpalle,39420\n",
      "\n",
      "Zane Preston,sed@Phasellusataugue.com,Neudšrfl,28553\n",
      "\n",
      "Cole Cunningham,ac.mattis.ornare@inmagna.co.uk,Catemu,27972\n",
      "\n",
      "Tarik Hendricks,Mauris.vestibulum@sodales.ca,Newbury,39027\n",
      "\n",
      "Elvis Collier,pede@mattisvelit.org,Paradise,22568\n",
      "\n",
      "Jackson Huber,eros.nec.tellus@ultricesposuere.edu,Veere,29922\n",
      "\n",
      "Macaulay Cline,Aliquam@arcuSedeu.edu,Campobasso,24163\n",
      "\n",
      "Elijah Chase,est.mollis.non@in.net,Grantham,23881\n",
      "\n",
      "Dennis Anthony,mauris.ut.mi@maurisid.co.uk,Cedar Rapids,27969\n",
      "\n",
      "Fulton Snyder,enim.mi@egestas.ca,San Pedro,21594\n",
      "\n",
      "Leo Willis,massa.lobortis@mattisornare.edu,Kester,31203\n",
      "\n",
      "Matthew Hooper,libero@Nuncullamcorper.net,Bellefontaine,33222\n",
      "\n",
      "Todd Jones,ipsum.Phasellus@ultrices.ca,Toledo,24809\n",
      "\n",
      "Palmer Byrd,faucibus.orci@necquam.org,Bissegem,29045\n"
     ]
    }
   ],
   "source": [
    "# Open a file for reading ('r')\n",
    "file = open('data/DM_1.csv','r')\n",
    "\n",
    "for line in file:\n",
    "    print(line)"
   ]
  },
  {
   "cell_type": "markdown",
   "id": "285d94c9",
   "metadata": {},
   "source": [
    "We can store this information in objects and start using it:"
   ]
  },
  {
   "cell_type": "code",
   "execution_count": 48,
   "id": "cb1ffda4",
   "metadata": {},
   "outputs": [
    {
     "name": "stdout",
     "output_type": "stream",
     "text": [
      "Arthur Hammond  has  27511\n",
      "Brent Hopkins  has  38363\n",
      "Cole Cunningham  has  27972\n",
      "Dennis Anthony  has  27969\n",
      "Gavin Gibson  has  37126\n",
      "Jackson Huber  has  29922\n",
      "Kelly Garza  has  39420\n",
      "Leo Willis  has  31203\n",
      "Matthew Hooper  has  33222\n",
      "Palmer Byrd  has  29045\n",
      "Sean Warner  has  25201\n",
      "Tarik Hendricks  has  39027\n",
      "Tate Greene  has  35052\n",
      "Zane Preston  has  28553\n"
     ]
    }
   ],
   "source": [
    "# File is looped now, hence, reread file\n",
    "file = open('data/DM_1.csv','r')\n",
    "# ignore the header\n",
    "next(file)\n",
    "\n",
    "# Store names with amount (i.e. columns 1 & 2)\n",
    "amount_per_person = {}\n",
    "for line in file:\n",
    "    cells = line.split(\",\")\n",
    "    amount_per_person[cells[0]] = int(cells[3])\n",
    "\n",
    "for person, amount in sorted(amount_per_person.items()):\n",
    "    if amount > 25000:\n",
    "        print(person , \" has \" , amount)"
   ]
  },
  {
   "cell_type": "code",
   "execution_count": 49,
   "id": "9a56088c",
   "metadata": {},
   "outputs": [],
   "source": [
    "# Now we use 'w' for write   \n",
    "output_file = open('data/ordered_amounts_per_person.csv','w')\n",
    "\n",
    "for person, amount in sorted(amount_per_person.items()):\n",
    "    output_file.write(person.lower()+\",\"+str(amount))    \n",
    "output_file.close()"
   ]
  },
  {
   "cell_type": "markdown",
   "id": "073849f8",
   "metadata": {},
   "source": [
    "## Libraries"
   ]
  },
  {
   "cell_type": "markdown",
   "id": "eeb7683d",
   "metadata": {},
   "source": [
    "Libraries are imported by using `import`:"
   ]
  },
  {
   "cell_type": "code",
   "execution_count": 50,
   "id": "ddd72f1d",
   "metadata": {},
   "outputs": [],
   "source": [
    "import numpy\n",
    "import pandas\n",
    "import sklearn"
   ]
  },
  {
   "cell_type": "markdown",
   "id": "6a79ccf6",
   "metadata": {},
   "source": [
    "If you haven't installed sklearn, please install it by:"
   ]
  },
  {
   "cell_type": "code",
   "execution_count": 53,
   "id": "04f4ea68",
   "metadata": {},
   "outputs": [
    {
     "name": "stdout",
     "output_type": "stream",
     "text": [
      "Collecting sklearn\n",
      "  Downloading sklearn-0.0.tar.gz (1.1 kB)\n",
      "Requirement already satisfied: scikit-learn in c:\\users\\zchen112\\anaconda3\\lib\\site-packages (from sklearn) (0.24.1)\n",
      "Requirement already satisfied: joblib>=0.11 in c:\\users\\zchen112\\anaconda3\\lib\\site-packages (from scikit-learn->sklearn) (1.0.1)\n",
      "Requirement already satisfied: scipy>=0.19.1 in c:\\users\\zchen112\\anaconda3\\lib\\site-packages (from scikit-learn->sklearn) (1.6.2)\n",
      "Requirement already satisfied: numpy>=1.13.3 in c:\\users\\zchen112\\anaconda3\\lib\\site-packages (from scikit-learn->sklearn) (1.20.1)\n",
      "Requirement already satisfied: threadpoolctl>=2.0.0 in c:\\users\\zchen112\\anaconda3\\lib\\site-packages (from scikit-learn->sklearn) (2.1.0)\n",
      "Building wheels for collected packages: sklearn\n",
      "  Building wheel for sklearn (setup.py): started\n",
      "  Building wheel for sklearn (setup.py): finished with status 'done'\n",
      "  Created wheel for sklearn: filename=sklearn-0.0-py2.py3-none-any.whl size=1316 sha256=de54cc32dd40e89c8b3d1fd541e221f659546c0f556371dadf408a133d078ca0\n",
      "  Stored in directory: c:\\users\\zchen112\\appdata\\local\\pip\\cache\\wheels\\22\\0b\\40\\fd3f795caaa1fb4c6cb738bc1f56100be1e57da95849bfc897\n",
      "Successfully built sklearn\n",
      "Installing collected packages: sklearn\n",
      "Successfully installed sklearn-0.0\n"
     ]
    }
   ],
   "source": [
    "!pip install sklearn"
   ]
  },
  {
   "cell_type": "markdown",
   "id": "b4c74651",
   "metadata": {},
   "source": [
    "We can import just a few bits using `from`, or create aliases using `as`:"
   ]
  },
  {
   "cell_type": "code",
   "execution_count": 51,
   "id": "f08b9cfc",
   "metadata": {},
   "outputs": [],
   "source": [
    "import math as m\n",
    "from math import pi"
   ]
  },
  {
   "cell_type": "code",
   "execution_count": 52,
   "id": "c23a42bc",
   "metadata": {},
   "outputs": [
    {
     "name": "stdout",
     "output_type": "stream",
     "text": [
      "3\n",
      "3.141592653589793\n",
      "0.8414709848078965\n"
     ]
    }
   ],
   "source": [
    "print(numpy.add(1, 2))\n",
    "print(pi)\n",
    "print(m.sin(1))"
   ]
  },
  {
   "cell_type": "markdown",
   "id": "4332ef2c",
   "metadata": {},
   "source": [
    "In the next part, some basic procedures that exist in NumPy, pandas, and scikit-learn are covered. This only scratches the surface of the possibilities, and many other functions and code will be used later on. Make sure to search around for the possiblities that exist yourself, and get a grasp of how the modules are called and used. Let's import them in this notebook to start with:"
   ]
  },
  {
   "cell_type": "code",
   "execution_count": 55,
   "id": "00cd3a3a",
   "metadata": {},
   "outputs": [],
   "source": [
    "import numpy as np\n",
    "import pandas as pd\n",
    "import sklearn"
   ]
  },
  {
   "cell_type": "markdown",
   "id": "736e0467",
   "metadata": {},
   "source": [
    "## Numpy"
   ]
  },
  {
   "cell_type": "code",
   "execution_count": 56,
   "id": "65dd7a36",
   "metadata": {},
   "outputs": [
    {
     "name": "stdout",
     "output_type": "stream",
     "text": [
      "Empty array: \n",
      " [0. 0. 0. 0. 0.]\n",
      "Empty matrix: \n",
      " [[0. 0.]\n",
      " [0. 0.]\n",
      " [0. 0.]\n",
      " [0. 0.]\n",
      " [0. 0.]]\n"
     ]
    }
   ],
   "source": [
    "# Create empty arrays/matrices\n",
    "empty_array = np.zeros(5)\n",
    "\n",
    "empty_matrix = np.zeros((5,2))\n",
    "\n",
    "print('Empty array: \\n',empty_array)\n",
    "print('Empty matrix: \\n',empty_matrix)"
   ]
  },
  {
   "cell_type": "code",
   "execution_count": 57,
   "id": "9091fa38",
   "metadata": {},
   "outputs": [
    {
     "name": "stdout",
     "output_type": "stream",
     "text": [
      "Matrix: \n",
      " [[1 2 3]\n",
      " [4 5 6]]\n",
      "Transpose: \n",
      " [[1 4]\n",
      " [2 5]\n",
      " [3 6]]\n",
      "Item 2,2:  5\n",
      "Item 2,3:  6\n",
      "rows and columns:  (2, 3)\n",
      "Sum total matrix:  21\n",
      "Sum row 1:  6\n",
      "Sum row 2:  15\n",
      "Sum column 2:  9\n"
     ]
    }
   ],
   "source": [
    "# Create matrices\n",
    "mat = np.array([[1,2,3],[4,5,6]])\n",
    "print('Matrix: \\n', mat)\n",
    "print('Transpose: \\n', mat.T)\n",
    "print('Item 2,2: ', mat[1,1])\n",
    "print('Item 2,3: ', mat[1,2])\n",
    "print('rows and columns: ', np.shape(mat))\n",
    "print('Sum total matrix: ', np.sum(mat))\n",
    "print('Sum row 1: ' , np.sum(mat[0]))\n",
    "print('Sum row 2: ', np.sum(mat[1]))\n",
    "print('Sum column 2: ', np.sum(mat,axis=0)[2])"
   ]
  },
  {
   "cell_type": "markdown",
   "id": "05973bac",
   "metadata": {},
   "source": [
    "## pandas"
   ]
  },
  {
   "cell_type": "markdown",
   "id": "f002556b",
   "metadata": {},
   "source": [
    "### Creating dataframes"
   ]
  },
  {
   "cell_type": "markdown",
   "id": "0692e07e",
   "metadata": {},
   "source": [
    "pandas is great for reading and creating datasets, as well as performing basic operations on them."
   ]
  },
  {
   "cell_type": "code",
   "execution_count": 58,
   "id": "7e325840",
   "metadata": {},
   "outputs": [
    {
     "name": "stdout",
     "output_type": "stream",
     "text": [
      "          0   1\n",
      "0  johannes  10\n",
      "1  giovanni   2\n",
      "2      john   3\n"
     ]
    }
   ],
   "source": [
    "# Creating a matrix with three rows of data\n",
    "data = [['johannes',10], ['giovanni',2], ['john',3]]\n",
    "\n",
    "# Creating and printing a pandas DataFrame object from the matrix\n",
    "df = pd.DataFrame(data)\n",
    "print(df)"
   ]
  },
  {
   "cell_type": "code",
   "execution_count": 59,
   "id": "0b1cd38e",
   "metadata": {},
   "outputs": [
    {
     "name": "stdout",
     "output_type": "stream",
     "text": [
      "      names  years\n",
      "0  johannes     10\n",
      "1  giovanni      2\n",
      "2      john      3\n"
     ]
    }
   ],
   "source": [
    "# Adding columns to the DataFrame object\n",
    "df.columns = ['names', 'years']\n",
    "print(df)"
   ]
  },
  {
   "cell_type": "code",
   "execution_count": 60,
   "id": "7e637ef9",
   "metadata": {},
   "outputs": [
    {
     "name": "stdout",
     "output_type": "stream",
     "text": [
      "      names  years\n",
      "0  johannes     10\n",
      "1  giovanni      2\n",
      "2      john      3\n"
     ]
    }
   ],
   "source": [
    "df_2 = pd.DataFrame(data = data, columns = ['names', 'years'])\n",
    "print(df_2)"
   ]
  },
  {
   "cell_type": "code",
   "execution_count": 61,
   "id": "69d01e2e",
   "metadata": {},
   "outputs": [
    {
     "name": "stdout",
     "output_type": "stream",
     "text": [
      "0    10\n",
      "1     2\n",
      "2     3\n",
      "Name: years, dtype: int64\n",
      "Sum of all values in column:  15\n"
     ]
    }
   ],
   "source": [
    "# Taking out a single column and calculating its sum\n",
    "# This also shows the type of the variable: a 64 bit integer (array)\n",
    "print(df['years'])\n",
    "print('Sum of all values in column: ', df['years'].sum())"
   ]
  },
  {
   "cell_type": "code",
   "execution_count": 62,
   "id": "4736b558",
   "metadata": {},
   "outputs": [
    {
     "name": "stdout",
     "output_type": "stream",
     "text": [
      "      names  years\n",
      "0  johannes     10\n",
      "1  giovanni      2\n",
      "2      john      3\n",
      "3  giovanni      2\n",
      "4      john      3\n",
      "\n",
      "\n",
      "      names  years\n",
      "5  giovanni      2\n",
      "6      john      3\n",
      "7  giovanni      2\n",
      "8      john      3\n",
      "9  johannes     10\n"
     ]
    }
   ],
   "source": [
    "# Creating a larger matrix\n",
    "data = [['johannes',10], ['giovanni',2], ['john',3], ['giovanni',2], ['john',3], ['giovanni',2], ['john',3], ['giovanni',2], ['john',3], ['johannes',10]]\n",
    "\n",
    "# Again, creating a DataFrame object, now with columns\n",
    "df = pd.DataFrame(data, columns = ['names','years'])\n",
    "\n",
    "# Print the 5 first (head) and 5 last (tail) observations\n",
    "print(df.head())\n",
    "print('\\n')\n",
    "print(df.tail())"
   ]
  },
  {
   "cell_type": "markdown",
   "id": "1443af0f",
   "metadata": {},
   "source": [
    "### Reading files"
   ]
  },
  {
   "cell_type": "markdown",
   "id": "7d32a263",
   "metadata": {},
   "source": [
    "You can read files:"
   ]
  },
  {
   "cell_type": "code",
   "execution_count": 63,
   "id": "c476645a",
   "metadata": {},
   "outputs": [
    {
     "name": "stdout",
     "output_type": "stream",
     "text": [
      "             Name                                    Email            City  \\\n",
      "0   Brent Hopkins       Cum.sociis.natoque@aodiosemper.edu     Mount Pearl   \n",
      "1     Colt Bender              Vivamus.non.lorem@Proin.org  Castle Douglas   \n",
      "2  Arthur Hammond                    nisl.Maecenas@sed.net          Biloxi   \n",
      "3     Sean Warner          enim.nisl.elementum@Vivamus.edu           Moere   \n",
      "4     Tate Greene  velit.justo.nec@aliquetlobortisnisi.edu         Ipswich   \n",
      "\n",
      "   Salary  \n",
      "0   38363  \n",
      "1   21506  \n",
      "2   27511  \n",
      "3   25201  \n",
      "4   35052  \n"
     ]
    }
   ],
   "source": [
    "dataset = pd.read_csv('data/DM_1.csv')\n",
    "print(dataset.head())"
   ]
  },
  {
   "cell_type": "markdown",
   "id": "53786b72",
   "metadata": {},
   "source": [
    "### Using dataframes"
   ]
  },
  {
   "cell_type": "code",
   "execution_count": 64,
   "id": "bbdea672",
   "metadata": {},
   "outputs": [
    {
     "name": "stdout",
     "output_type": "stream",
     "text": [
      "['johannes' 'giovanni' 'john']\n"
     ]
    }
   ],
   "source": [
    "# Print all unique values of the column names\n",
    "print(df['names'].unique())"
   ]
  },
  {
   "cell_type": "code",
   "execution_count": 65,
   "id": "79f6a937",
   "metadata": {},
   "outputs": [
    {
     "name": "stdout",
     "output_type": "stream",
     "text": [
      "john        4\n",
      "giovanni    4\n",
      "johannes    2\n",
      "Name: names, dtype: int64\n",
      "2     4\n",
      "3     4\n",
      "10    2\n",
      "Name: years, dtype: int64\n"
     ]
    }
   ],
   "source": [
    "# Print all values and their frequency:\n",
    "print(df['names'].value_counts())\n",
    "print(df['years'].value_counts())"
   ]
  },
  {
   "cell_type": "code",
   "execution_count": 66,
   "id": "a86481e3",
   "metadata": {},
   "outputs": [
    {
     "name": "stdout",
     "output_type": "stream",
     "text": [
      "      names  years  code\n",
      "0  johannes     10   0.0\n",
      "1  giovanni      2   0.0\n",
      "2      john      3   0.0\n",
      "3  giovanni      2   0.0\n",
      "4      john      3   0.0\n",
      "5  giovanni      2   0.0\n",
      "6      john      3   0.0\n",
      "7  giovanni      2   0.0\n",
      "8      john      3   0.0\n",
      "9  johannes     10   0.0\n"
     ]
    }
   ],
   "source": [
    "# Add a column names 'code' with all zeros\n",
    "df['code'] = np.zeros(10)\n",
    "print(df)"
   ]
  },
  {
   "cell_type": "markdown",
   "id": "48a49b74",
   "metadata": {},
   "source": [
    "You can also easily find things in a DataFrame use `.loc`:"
   ]
  },
  {
   "cell_type": "code",
   "execution_count": 67,
   "id": "3b95d8bb",
   "metadata": {},
   "outputs": [
    {
     "name": "stdout",
     "output_type": "stream",
     "text": [
      "      names  years  code\n",
      "2      john      3   0.0\n",
      "3  giovanni      2   0.0\n",
      "4      john      3   0.0\n",
      "5  giovanni      2   0.0\n"
     ]
    }
   ],
   "source": [
    "# Rows 2 to 5 and all columns:\n",
    "print(df.loc[2:5, :])"
   ]
  },
  {
   "cell_type": "code",
   "execution_count": 68,
   "id": "b069974e",
   "metadata": {},
   "outputs": [
    {
     "name": "stdout",
     "output_type": "stream",
     "text": [
      "0    johannes\n",
      "1    giovanni\n",
      "2        john\n",
      "3    giovanni\n",
      "4        john\n",
      "5    giovanni\n",
      "6        john\n",
      "7    giovanni\n",
      "8        john\n",
      "9    johannes\n",
      "Name: names, dtype: object\n",
      "0    10\n",
      "1     2\n",
      "2     3\n",
      "3     2\n",
      "4     3\n",
      "5     2\n",
      "6     3\n",
      "7     2\n",
      "8     3\n",
      "9    10\n",
      "Name: years, dtype: int64\n",
      "0    0.0\n",
      "1    0.0\n",
      "2    0.0\n",
      "3    0.0\n",
      "4    0.0\n",
      "5    0.0\n",
      "6    0.0\n",
      "7    0.0\n",
      "8    0.0\n",
      "9    0.0\n",
      "Name: code, dtype: float64\n"
     ]
    }
   ],
   "source": [
    "# Looping columns\n",
    "for variable in df.columns:\n",
    "    print(df[variable])"
   ]
  },
  {
   "cell_type": "code",
   "execution_count": 69,
   "id": "bc04ab17",
   "metadata": {},
   "outputs": [
    {
     "name": "stdout",
     "output_type": "stream",
     "text": [
      "['johannes' 'giovanni' 'john' 'giovanni' 'john' 'giovanni' 'john'\n",
      " 'giovanni' 'john' 'johannes']\n",
      "[10  2  3  2  3  2  3  2  3 10]\n",
      "[0. 0. 0. 0. 0. 0. 0. 0. 0. 0.]\n"
     ]
    }
   ],
   "source": [
    "# Looping columns and obtaining the values (which returns an array)\n",
    "for variable in df.columns:\n",
    "    print(df[variable].values)"
   ]
  },
  {
   "cell_type": "markdown",
   "id": "acab189f",
   "metadata": {},
   "source": [
    "### preparing datasets"
   ]
  },
  {
   "cell_type": "code",
   "execution_count": 71,
   "id": "ad89cf80",
   "metadata": {},
   "outputs": [],
   "source": [
    "dataset_1 = pd.read_csv('data/DM_1.csv', encoding='latin1')\n",
    "dataset_2 = pd.read_csv('data/DM_2.csv', encoding='latin1')"
   ]
  },
  {
   "cell_type": "code",
   "execution_count": 72,
   "id": "fc89a1a4",
   "metadata": {},
   "outputs": [
    {
     "data": {
      "text/html": [
       "<div>\n",
       "<style scoped>\n",
       "    .dataframe tbody tr th:only-of-type {\n",
       "        vertical-align: middle;\n",
       "    }\n",
       "\n",
       "    .dataframe tbody tr th {\n",
       "        vertical-align: top;\n",
       "    }\n",
       "\n",
       "    .dataframe thead th {\n",
       "        text-align: right;\n",
       "    }\n",
       "</style>\n",
       "<table border=\"1\" class=\"dataframe\">\n",
       "  <thead>\n",
       "    <tr style=\"text-align: right;\">\n",
       "      <th></th>\n",
       "      <th>Name</th>\n",
       "      <th>Email</th>\n",
       "      <th>City</th>\n",
       "      <th>Salary</th>\n",
       "    </tr>\n",
       "  </thead>\n",
       "  <tbody>\n",
       "    <tr>\n",
       "      <th>0</th>\n",
       "      <td>Brent Hopkins</td>\n",
       "      <td>Cum.sociis.natoque@aodiosemper.edu</td>\n",
       "      <td>Mount Pearl</td>\n",
       "      <td>38363</td>\n",
       "    </tr>\n",
       "    <tr>\n",
       "      <th>1</th>\n",
       "      <td>Colt Bender</td>\n",
       "      <td>Vivamus.non.lorem@Proin.org</td>\n",
       "      <td>Castle Douglas</td>\n",
       "      <td>21506</td>\n",
       "    </tr>\n",
       "    <tr>\n",
       "      <th>2</th>\n",
       "      <td>Arthur Hammond</td>\n",
       "      <td>nisl.Maecenas@sed.net</td>\n",
       "      <td>Biloxi</td>\n",
       "      <td>27511</td>\n",
       "    </tr>\n",
       "    <tr>\n",
       "      <th>3</th>\n",
       "      <td>Sean Warner</td>\n",
       "      <td>enim.nisl.elementum@Vivamus.edu</td>\n",
       "      <td>Moere</td>\n",
       "      <td>25201</td>\n",
       "    </tr>\n",
       "    <tr>\n",
       "      <th>4</th>\n",
       "      <td>Tate Greene</td>\n",
       "      <td>velit.justo.nec@aliquetlobortisnisi.edu</td>\n",
       "      <td>Ipswich</td>\n",
       "      <td>35052</td>\n",
       "    </tr>\n",
       "    <tr>\n",
       "      <th>5</th>\n",
       "      <td>Gavin Gibson</td>\n",
       "      <td>cursus.Integer.mollis@Duissitamet.org</td>\n",
       "      <td>Oordegem</td>\n",
       "      <td>37126</td>\n",
       "    </tr>\n",
       "    <tr>\n",
       "      <th>6</th>\n",
       "      <td>Kelly Garza</td>\n",
       "      <td>cursus.non.egestas@antebibendum.ca</td>\n",
       "      <td>Kukatpalle</td>\n",
       "      <td>39420</td>\n",
       "    </tr>\n",
       "    <tr>\n",
       "      <th>7</th>\n",
       "      <td>Zane Preston</td>\n",
       "      <td>sed@Phasellusataugue.com</td>\n",
       "      <td>Neudrfl</td>\n",
       "      <td>28553</td>\n",
       "    </tr>\n",
       "    <tr>\n",
       "      <th>8</th>\n",
       "      <td>Cole Cunningham</td>\n",
       "      <td>ac.mattis.ornare@inmagna.co.uk</td>\n",
       "      <td>Catemu</td>\n",
       "      <td>27972</td>\n",
       "    </tr>\n",
       "    <tr>\n",
       "      <th>9</th>\n",
       "      <td>Tarik Hendricks</td>\n",
       "      <td>Mauris.vestibulum@sodales.ca</td>\n",
       "      <td>Newbury</td>\n",
       "      <td>39027</td>\n",
       "    </tr>\n",
       "    <tr>\n",
       "      <th>10</th>\n",
       "      <td>Elvis Collier</td>\n",
       "      <td>pede@mattisvelit.org</td>\n",
       "      <td>Paradise</td>\n",
       "      <td>22568</td>\n",
       "    </tr>\n",
       "    <tr>\n",
       "      <th>11</th>\n",
       "      <td>Jackson Huber</td>\n",
       "      <td>eros.nec.tellus@ultricesposuere.edu</td>\n",
       "      <td>Veere</td>\n",
       "      <td>29922</td>\n",
       "    </tr>\n",
       "    <tr>\n",
       "      <th>12</th>\n",
       "      <td>Macaulay Cline</td>\n",
       "      <td>Aliquam@arcuSedeu.edu</td>\n",
       "      <td>Campobasso</td>\n",
       "      <td>24163</td>\n",
       "    </tr>\n",
       "    <tr>\n",
       "      <th>13</th>\n",
       "      <td>Elijah Chase</td>\n",
       "      <td>est.mollis.non@in.net</td>\n",
       "      <td>Grantham</td>\n",
       "      <td>23881</td>\n",
       "    </tr>\n",
       "    <tr>\n",
       "      <th>14</th>\n",
       "      <td>Dennis Anthony</td>\n",
       "      <td>mauris.ut.mi@maurisid.co.uk</td>\n",
       "      <td>Cedar Rapids</td>\n",
       "      <td>27969</td>\n",
       "    </tr>\n",
       "    <tr>\n",
       "      <th>15</th>\n",
       "      <td>Fulton Snyder</td>\n",
       "      <td>enim.mi@egestas.ca</td>\n",
       "      <td>San Pedro</td>\n",
       "      <td>21594</td>\n",
       "    </tr>\n",
       "    <tr>\n",
       "      <th>16</th>\n",
       "      <td>Leo Willis</td>\n",
       "      <td>massa.lobortis@mattisornare.edu</td>\n",
       "      <td>Kester</td>\n",
       "      <td>31203</td>\n",
       "    </tr>\n",
       "    <tr>\n",
       "      <th>17</th>\n",
       "      <td>Matthew Hooper</td>\n",
       "      <td>libero@Nuncullamcorper.net</td>\n",
       "      <td>Bellefontaine</td>\n",
       "      <td>33222</td>\n",
       "    </tr>\n",
       "    <tr>\n",
       "      <th>18</th>\n",
       "      <td>Todd Jones</td>\n",
       "      <td>ipsum.Phasellus@ultrices.ca</td>\n",
       "      <td>Toledo</td>\n",
       "      <td>24809</td>\n",
       "    </tr>\n",
       "    <tr>\n",
       "      <th>19</th>\n",
       "      <td>Palmer Byrd</td>\n",
       "      <td>faucibus.orci@necquam.org</td>\n",
       "      <td>Bissegem</td>\n",
       "      <td>29045</td>\n",
       "    </tr>\n",
       "  </tbody>\n",
       "</table>\n",
       "</div>"
      ],
      "text/plain": [
       "               Name                                    Email            City  \\\n",
       "0     Brent Hopkins       Cum.sociis.natoque@aodiosemper.edu     Mount Pearl   \n",
       "1       Colt Bender              Vivamus.non.lorem@Proin.org  Castle Douglas   \n",
       "2    Arthur Hammond                    nisl.Maecenas@sed.net          Biloxi   \n",
       "3       Sean Warner          enim.nisl.elementum@Vivamus.edu           Moere   \n",
       "4       Tate Greene  velit.justo.nec@aliquetlobortisnisi.edu         Ipswich   \n",
       "5      Gavin Gibson    cursus.Integer.mollis@Duissitamet.org        Oordegem   \n",
       "6       Kelly Garza       cursus.non.egestas@antebibendum.ca      Kukatpalle   \n",
       "7      Zane Preston                 sed@Phasellusataugue.com        Neudrfl   \n",
       "8   Cole Cunningham           ac.mattis.ornare@inmagna.co.uk          Catemu   \n",
       "9   Tarik Hendricks             Mauris.vestibulum@sodales.ca         Newbury   \n",
       "10    Elvis Collier                     pede@mattisvelit.org        Paradise   \n",
       "11    Jackson Huber      eros.nec.tellus@ultricesposuere.edu           Veere   \n",
       "12   Macaulay Cline                    Aliquam@arcuSedeu.edu      Campobasso   \n",
       "13     Elijah Chase                    est.mollis.non@in.net        Grantham   \n",
       "14   Dennis Anthony              mauris.ut.mi@maurisid.co.uk    Cedar Rapids   \n",
       "15    Fulton Snyder                       enim.mi@egestas.ca       San Pedro   \n",
       "16       Leo Willis          massa.lobortis@mattisornare.edu          Kester   \n",
       "17   Matthew Hooper               libero@Nuncullamcorper.net   Bellefontaine   \n",
       "18       Todd Jones              ipsum.Phasellus@ultrices.ca          Toledo   \n",
       "19      Palmer Byrd                faucibus.orci@necquam.org        Bissegem   \n",
       "\n",
       "    Salary  \n",
       "0    38363  \n",
       "1    21506  \n",
       "2    27511  \n",
       "3    25201  \n",
       "4    35052  \n",
       "5    37126  \n",
       "6    39420  \n",
       "7    28553  \n",
       "8    27972  \n",
       "9    39027  \n",
       "10   22568  \n",
       "11   29922  \n",
       "12   24163  \n",
       "13   23881  \n",
       "14   27969  \n",
       "15   21594  \n",
       "16   31203  \n",
       "17   33222  \n",
       "18   24809  \n",
       "19   29045  "
      ]
     },
     "execution_count": 72,
     "metadata": {},
     "output_type": "execute_result"
    }
   ],
   "source": [
    "dataset_1"
   ]
  },
  {
   "cell_type": "code",
   "execution_count": 73,
   "id": "80fb6f9b",
   "metadata": {},
   "outputs": [
    {
     "data": {
      "text/html": [
       "<div>\n",
       "<style scoped>\n",
       "    .dataframe tbody tr th:only-of-type {\n",
       "        vertical-align: middle;\n",
       "    }\n",
       "\n",
       "    .dataframe tbody tr th {\n",
       "        vertical-align: top;\n",
       "    }\n",
       "\n",
       "    .dataframe thead th {\n",
       "        text-align: right;\n",
       "    }\n",
       "</style>\n",
       "<table border=\"1\" class=\"dataframe\">\n",
       "  <thead>\n",
       "    <tr style=\"text-align: right;\">\n",
       "      <th></th>\n",
       "      <th>Colt</th>\n",
       "      <th>BENDER</th>\n",
       "      <th>252</th>\n",
       "    </tr>\n",
       "  </thead>\n",
       "  <tbody>\n",
       "    <tr>\n",
       "      <th>0</th>\n",
       "      <td>Arthur</td>\n",
       "      <td>HAMMOND</td>\n",
       "      <td>138</td>\n",
       "    </tr>\n",
       "    <tr>\n",
       "      <th>1</th>\n",
       "      <td>Gavin</td>\n",
       "      <td>GIBSON</td>\n",
       "      <td>146</td>\n",
       "    </tr>\n",
       "    <tr>\n",
       "      <th>2</th>\n",
       "      <td>Kelly</td>\n",
       "      <td>GARZA</td>\n",
       "      <td>212</td>\n",
       "    </tr>\n",
       "    <tr>\n",
       "      <th>3</th>\n",
       "      <td>Zane</td>\n",
       "      <td>PRESTON</td>\n",
       "      <td>234</td>\n",
       "    </tr>\n",
       "    <tr>\n",
       "      <th>4</th>\n",
       "      <td>Zane</td>\n",
       "      <td>PRESTON</td>\n",
       "      <td>178</td>\n",
       "    </tr>\n",
       "    <tr>\n",
       "      <th>5</th>\n",
       "      <td>Tarik</td>\n",
       "      <td>HENDRICKS</td>\n",
       "      <td>195</td>\n",
       "    </tr>\n",
       "    <tr>\n",
       "      <th>6</th>\n",
       "      <td>Elvis</td>\n",
       "      <td>COLLIER</td>\n",
       "      <td>95</td>\n",
       "    </tr>\n",
       "    <tr>\n",
       "      <th>7</th>\n",
       "      <td>Elvis</td>\n",
       "      <td>COLLIER</td>\n",
       "      <td>101</td>\n",
       "    </tr>\n",
       "    <tr>\n",
       "      <th>8</th>\n",
       "      <td>Elvis</td>\n",
       "      <td>COLLIER</td>\n",
       "      <td>258</td>\n",
       "    </tr>\n",
       "    <tr>\n",
       "      <th>9</th>\n",
       "      <td>Dennis</td>\n",
       "      <td>ANTHONY</td>\n",
       "      <td>254</td>\n",
       "    </tr>\n",
       "    <tr>\n",
       "      <th>10</th>\n",
       "      <td>Fulton</td>\n",
       "      <td>SNYDER</td>\n",
       "      <td>107</td>\n",
       "    </tr>\n",
       "    <tr>\n",
       "      <th>11</th>\n",
       "      <td>Leo</td>\n",
       "      <td>WILLIS</td>\n",
       "      <td>294</td>\n",
       "    </tr>\n",
       "    <tr>\n",
       "      <th>12</th>\n",
       "      <td>Frederik</td>\n",
       "      <td>HUMBLEDERRY</td>\n",
       "      <td>299</td>\n",
       "    </tr>\n",
       "  </tbody>\n",
       "</table>\n",
       "</div>"
      ],
      "text/plain": [
       "        Colt       BENDER  252\n",
       "0     Arthur      HAMMOND  138\n",
       "1      Gavin       GIBSON  146\n",
       "2      Kelly        GARZA  212\n",
       "3       Zane      PRESTON  234\n",
       "4       Zane      PRESTON  178\n",
       "5      Tarik    HENDRICKS  195\n",
       "6      Elvis      COLLIER   95\n",
       "7      Elvis      COLLIER  101\n",
       "8      Elvis      COLLIER  258\n",
       "9     Dennis      ANTHONY  254\n",
       "10    Fulton       SNYDER  107\n",
       "11       Leo       WILLIS  294\n",
       "12  Frederik  HUMBLEDERRY  299"
      ]
     },
     "execution_count": 73,
     "metadata": {},
     "output_type": "execute_result"
    }
   ],
   "source": [
    "dataset_2"
   ]
  },
  {
   "cell_type": "code",
   "execution_count": 74,
   "id": "f807a0ec",
   "metadata": {},
   "outputs": [
    {
     "data": {
      "text/html": [
       "<div>\n",
       "<style scoped>\n",
       "    .dataframe tbody tr th:only-of-type {\n",
       "        vertical-align: middle;\n",
       "    }\n",
       "\n",
       "    .dataframe tbody tr th {\n",
       "        vertical-align: top;\n",
       "    }\n",
       "\n",
       "    .dataframe thead th {\n",
       "        text-align: right;\n",
       "    }\n",
       "</style>\n",
       "<table border=\"1\" class=\"dataframe\">\n",
       "  <thead>\n",
       "    <tr style=\"text-align: right;\">\n",
       "      <th></th>\n",
       "      <th>First name</th>\n",
       "      <th>Last name</th>\n",
       "      <th>Days active</th>\n",
       "    </tr>\n",
       "  </thead>\n",
       "  <tbody>\n",
       "    <tr>\n",
       "      <th>0</th>\n",
       "      <td>Arthur</td>\n",
       "      <td>HAMMOND</td>\n",
       "      <td>138</td>\n",
       "    </tr>\n",
       "    <tr>\n",
       "      <th>1</th>\n",
       "      <td>Gavin</td>\n",
       "      <td>GIBSON</td>\n",
       "      <td>146</td>\n",
       "    </tr>\n",
       "    <tr>\n",
       "      <th>2</th>\n",
       "      <td>Kelly</td>\n",
       "      <td>GARZA</td>\n",
       "      <td>212</td>\n",
       "    </tr>\n",
       "    <tr>\n",
       "      <th>3</th>\n",
       "      <td>Zane</td>\n",
       "      <td>PRESTON</td>\n",
       "      <td>234</td>\n",
       "    </tr>\n",
       "    <tr>\n",
       "      <th>4</th>\n",
       "      <td>Zane</td>\n",
       "      <td>PRESTON</td>\n",
       "      <td>178</td>\n",
       "    </tr>\n",
       "    <tr>\n",
       "      <th>5</th>\n",
       "      <td>Tarik</td>\n",
       "      <td>HENDRICKS</td>\n",
       "      <td>195</td>\n",
       "    </tr>\n",
       "    <tr>\n",
       "      <th>6</th>\n",
       "      <td>Elvis</td>\n",
       "      <td>COLLIER</td>\n",
       "      <td>95</td>\n",
       "    </tr>\n",
       "    <tr>\n",
       "      <th>7</th>\n",
       "      <td>Elvis</td>\n",
       "      <td>COLLIER</td>\n",
       "      <td>101</td>\n",
       "    </tr>\n",
       "    <tr>\n",
       "      <th>8</th>\n",
       "      <td>Elvis</td>\n",
       "      <td>COLLIER</td>\n",
       "      <td>258</td>\n",
       "    </tr>\n",
       "    <tr>\n",
       "      <th>9</th>\n",
       "      <td>Dennis</td>\n",
       "      <td>ANTHONY</td>\n",
       "      <td>254</td>\n",
       "    </tr>\n",
       "    <tr>\n",
       "      <th>10</th>\n",
       "      <td>Fulton</td>\n",
       "      <td>SNYDER</td>\n",
       "      <td>107</td>\n",
       "    </tr>\n",
       "    <tr>\n",
       "      <th>11</th>\n",
       "      <td>Leo</td>\n",
       "      <td>WILLIS</td>\n",
       "      <td>294</td>\n",
       "    </tr>\n",
       "    <tr>\n",
       "      <th>12</th>\n",
       "      <td>Frederik</td>\n",
       "      <td>HUMBLEDERRY</td>\n",
       "      <td>299</td>\n",
       "    </tr>\n",
       "  </tbody>\n",
       "</table>\n",
       "</div>"
      ],
      "text/plain": [
       "   First name    Last name  Days active\n",
       "0      Arthur      HAMMOND          138\n",
       "1       Gavin       GIBSON          146\n",
       "2       Kelly        GARZA          212\n",
       "3        Zane      PRESTON          234\n",
       "4        Zane      PRESTON          178\n",
       "5       Tarik    HENDRICKS          195\n",
       "6       Elvis      COLLIER           95\n",
       "7       Elvis      COLLIER          101\n",
       "8       Elvis      COLLIER          258\n",
       "9      Dennis      ANTHONY          254\n",
       "10     Fulton       SNYDER          107\n",
       "11        Leo       WILLIS          294\n",
       "12   Frederik  HUMBLEDERRY          299"
      ]
     },
     "execution_count": 74,
     "metadata": {},
     "output_type": "execute_result"
    }
   ],
   "source": [
    "dataset_2.columns = ['First name', 'Last name', 'Days active']\n",
    "dataset_2"
   ]
  },
  {
   "cell_type": "markdown",
   "id": "944e8ff7",
   "metadata": {},
   "source": [
    "We can convert the second dataset to only have 1 column for names:"
   ]
  },
  {
   "cell_type": "code",
   "execution_count": 75,
   "id": "43a9eedd",
   "metadata": {
    "scrolled": false
   },
   "outputs": [
    {
     "data": {
      "text/html": [
       "<div>\n",
       "<style scoped>\n",
       "    .dataframe tbody tr th:only-of-type {\n",
       "        vertical-align: middle;\n",
       "    }\n",
       "\n",
       "    .dataframe tbody tr th {\n",
       "        vertical-align: top;\n",
       "    }\n",
       "\n",
       "    .dataframe thead th {\n",
       "        text-align: right;\n",
       "    }\n",
       "</style>\n",
       "<table border=\"1\" class=\"dataframe\">\n",
       "  <thead>\n",
       "    <tr style=\"text-align: right;\">\n",
       "      <th></th>\n",
       "      <th>Days active</th>\n",
       "      <th>Name</th>\n",
       "    </tr>\n",
       "  </thead>\n",
       "  <tbody>\n",
       "    <tr>\n",
       "      <th>0</th>\n",
       "      <td>138</td>\n",
       "      <td>Arthur Hammond</td>\n",
       "    </tr>\n",
       "    <tr>\n",
       "      <th>1</th>\n",
       "      <td>146</td>\n",
       "      <td>Gavin Gibson</td>\n",
       "    </tr>\n",
       "    <tr>\n",
       "      <th>2</th>\n",
       "      <td>212</td>\n",
       "      <td>Kelly Garza</td>\n",
       "    </tr>\n",
       "    <tr>\n",
       "      <th>3</th>\n",
       "      <td>234</td>\n",
       "      <td>Zane Preston</td>\n",
       "    </tr>\n",
       "    <tr>\n",
       "      <th>4</th>\n",
       "      <td>178</td>\n",
       "      <td>Zane Preston</td>\n",
       "    </tr>\n",
       "    <tr>\n",
       "      <th>5</th>\n",
       "      <td>195</td>\n",
       "      <td>Tarik Hendricks</td>\n",
       "    </tr>\n",
       "    <tr>\n",
       "      <th>6</th>\n",
       "      <td>95</td>\n",
       "      <td>Elvis Collier</td>\n",
       "    </tr>\n",
       "    <tr>\n",
       "      <th>7</th>\n",
       "      <td>101</td>\n",
       "      <td>Elvis Collier</td>\n",
       "    </tr>\n",
       "    <tr>\n",
       "      <th>8</th>\n",
       "      <td>258</td>\n",
       "      <td>Elvis Collier</td>\n",
       "    </tr>\n",
       "    <tr>\n",
       "      <th>9</th>\n",
       "      <td>254</td>\n",
       "      <td>Dennis Anthony</td>\n",
       "    </tr>\n",
       "    <tr>\n",
       "      <th>10</th>\n",
       "      <td>107</td>\n",
       "      <td>Fulton Snyder</td>\n",
       "    </tr>\n",
       "    <tr>\n",
       "      <th>11</th>\n",
       "      <td>294</td>\n",
       "      <td>Leo Willis</td>\n",
       "    </tr>\n",
       "    <tr>\n",
       "      <th>12</th>\n",
       "      <td>299</td>\n",
       "      <td>Frederik Humblederry</td>\n",
       "    </tr>\n",
       "  </tbody>\n",
       "</table>\n",
       "</div>"
      ],
      "text/plain": [
       "    Days active                  Name\n",
       "0           138        Arthur Hammond\n",
       "1           146          Gavin Gibson\n",
       "2           212           Kelly Garza\n",
       "3           234          Zane Preston\n",
       "4           178          Zane Preston\n",
       "5           195       Tarik Hendricks\n",
       "6            95         Elvis Collier\n",
       "7           101         Elvis Collier\n",
       "8           258         Elvis Collier\n",
       "9           254        Dennis Anthony\n",
       "10          107         Fulton Snyder\n",
       "11          294            Leo Willis\n",
       "12          299  Frederik Humblederry"
      ]
     },
     "execution_count": 75,
     "metadata": {},
     "output_type": "execute_result"
    }
   ],
   "source": [
    "# .title() can be used to only make the first letter a capital\n",
    "names = [dataset_2.loc[i,'First name'] + \" \" + dataset_2.loc[i,'Last name'].title() for i in range(0, len(dataset_2))]\n",
    "\n",
    "# Make a new column for the name\n",
    "dataset_2['Name'] = names\n",
    "\n",
    "# Remove the old columns\n",
    "dataset_2 = dataset_2.drop(['First name', 'Last name'], axis=1)\n",
    "dataset_2"
   ]
  },
  {
   "cell_type": "markdown",
   "id": "76c901fa",
   "metadata": {},
   "source": [
    "### Bringing together the datasets"
   ]
  },
  {
   "cell_type": "markdown",
   "id": "cc10c53a",
   "metadata": {},
   "source": [
    "Now the datasets are made compatible, we can merge them in a few different ways."
   ]
  },
  {
   "cell_type": "code",
   "execution_count": 77,
   "id": "7b614e6c",
   "metadata": {},
   "outputs": [
    {
     "data": {
      "text/html": [
       "<div>\n",
       "<style scoped>\n",
       "    .dataframe tbody tr th:only-of-type {\n",
       "        vertical-align: middle;\n",
       "    }\n",
       "\n",
       "    .dataframe tbody tr th {\n",
       "        vertical-align: top;\n",
       "    }\n",
       "\n",
       "    .dataframe thead th {\n",
       "        text-align: right;\n",
       "    }\n",
       "</style>\n",
       "<table border=\"1\" class=\"dataframe\">\n",
       "  <thead>\n",
       "    <tr style=\"text-align: right;\">\n",
       "      <th></th>\n",
       "      <th>Name</th>\n",
       "      <th>Email</th>\n",
       "      <th>City</th>\n",
       "      <th>Salary</th>\n",
       "      <th>Days active</th>\n",
       "    </tr>\n",
       "  </thead>\n",
       "  <tbody>\n",
       "    <tr>\n",
       "      <th>0</th>\n",
       "      <td>Brent Hopkins</td>\n",
       "      <td>Cum.sociis.natoque@aodiosemper.edu</td>\n",
       "      <td>Mount Pearl</td>\n",
       "      <td>38363</td>\n",
       "      <td>NaN</td>\n",
       "    </tr>\n",
       "    <tr>\n",
       "      <th>1</th>\n",
       "      <td>Colt Bender</td>\n",
       "      <td>Vivamus.non.lorem@Proin.org</td>\n",
       "      <td>Castle Douglas</td>\n",
       "      <td>21506</td>\n",
       "      <td>NaN</td>\n",
       "    </tr>\n",
       "    <tr>\n",
       "      <th>2</th>\n",
       "      <td>Arthur Hammond</td>\n",
       "      <td>nisl.Maecenas@sed.net</td>\n",
       "      <td>Biloxi</td>\n",
       "      <td>27511</td>\n",
       "      <td>138.0</td>\n",
       "    </tr>\n",
       "    <tr>\n",
       "      <th>3</th>\n",
       "      <td>Sean Warner</td>\n",
       "      <td>enim.nisl.elementum@Vivamus.edu</td>\n",
       "      <td>Moere</td>\n",
       "      <td>25201</td>\n",
       "      <td>NaN</td>\n",
       "    </tr>\n",
       "    <tr>\n",
       "      <th>4</th>\n",
       "      <td>Tate Greene</td>\n",
       "      <td>velit.justo.nec@aliquetlobortisnisi.edu</td>\n",
       "      <td>Ipswich</td>\n",
       "      <td>35052</td>\n",
       "      <td>NaN</td>\n",
       "    </tr>\n",
       "    <tr>\n",
       "      <th>5</th>\n",
       "      <td>Gavin Gibson</td>\n",
       "      <td>cursus.Integer.mollis@Duissitamet.org</td>\n",
       "      <td>Oordegem</td>\n",
       "      <td>37126</td>\n",
       "      <td>146.0</td>\n",
       "    </tr>\n",
       "    <tr>\n",
       "      <th>6</th>\n",
       "      <td>Kelly Garza</td>\n",
       "      <td>cursus.non.egestas@antebibendum.ca</td>\n",
       "      <td>Kukatpalle</td>\n",
       "      <td>39420</td>\n",
       "      <td>212.0</td>\n",
       "    </tr>\n",
       "    <tr>\n",
       "      <th>7</th>\n",
       "      <td>Zane Preston</td>\n",
       "      <td>sed@Phasellusataugue.com</td>\n",
       "      <td>Neudrfl</td>\n",
       "      <td>28553</td>\n",
       "      <td>234.0</td>\n",
       "    </tr>\n",
       "    <tr>\n",
       "      <th>8</th>\n",
       "      <td>Zane Preston</td>\n",
       "      <td>sed@Phasellusataugue.com</td>\n",
       "      <td>Neudrfl</td>\n",
       "      <td>28553</td>\n",
       "      <td>178.0</td>\n",
       "    </tr>\n",
       "    <tr>\n",
       "      <th>9</th>\n",
       "      <td>Cole Cunningham</td>\n",
       "      <td>ac.mattis.ornare@inmagna.co.uk</td>\n",
       "      <td>Catemu</td>\n",
       "      <td>27972</td>\n",
       "      <td>NaN</td>\n",
       "    </tr>\n",
       "    <tr>\n",
       "      <th>10</th>\n",
       "      <td>Tarik Hendricks</td>\n",
       "      <td>Mauris.vestibulum@sodales.ca</td>\n",
       "      <td>Newbury</td>\n",
       "      <td>39027</td>\n",
       "      <td>195.0</td>\n",
       "    </tr>\n",
       "    <tr>\n",
       "      <th>11</th>\n",
       "      <td>Elvis Collier</td>\n",
       "      <td>pede@mattisvelit.org</td>\n",
       "      <td>Paradise</td>\n",
       "      <td>22568</td>\n",
       "      <td>95.0</td>\n",
       "    </tr>\n",
       "    <tr>\n",
       "      <th>12</th>\n",
       "      <td>Elvis Collier</td>\n",
       "      <td>pede@mattisvelit.org</td>\n",
       "      <td>Paradise</td>\n",
       "      <td>22568</td>\n",
       "      <td>101.0</td>\n",
       "    </tr>\n",
       "    <tr>\n",
       "      <th>13</th>\n",
       "      <td>Elvis Collier</td>\n",
       "      <td>pede@mattisvelit.org</td>\n",
       "      <td>Paradise</td>\n",
       "      <td>22568</td>\n",
       "      <td>258.0</td>\n",
       "    </tr>\n",
       "    <tr>\n",
       "      <th>14</th>\n",
       "      <td>Jackson Huber</td>\n",
       "      <td>eros.nec.tellus@ultricesposuere.edu</td>\n",
       "      <td>Veere</td>\n",
       "      <td>29922</td>\n",
       "      <td>NaN</td>\n",
       "    </tr>\n",
       "    <tr>\n",
       "      <th>15</th>\n",
       "      <td>Macaulay Cline</td>\n",
       "      <td>Aliquam@arcuSedeu.edu</td>\n",
       "      <td>Campobasso</td>\n",
       "      <td>24163</td>\n",
       "      <td>NaN</td>\n",
       "    </tr>\n",
       "    <tr>\n",
       "      <th>16</th>\n",
       "      <td>Elijah Chase</td>\n",
       "      <td>est.mollis.non@in.net</td>\n",
       "      <td>Grantham</td>\n",
       "      <td>23881</td>\n",
       "      <td>NaN</td>\n",
       "    </tr>\n",
       "    <tr>\n",
       "      <th>17</th>\n",
       "      <td>Dennis Anthony</td>\n",
       "      <td>mauris.ut.mi@maurisid.co.uk</td>\n",
       "      <td>Cedar Rapids</td>\n",
       "      <td>27969</td>\n",
       "      <td>254.0</td>\n",
       "    </tr>\n",
       "    <tr>\n",
       "      <th>18</th>\n",
       "      <td>Fulton Snyder</td>\n",
       "      <td>enim.mi@egestas.ca</td>\n",
       "      <td>San Pedro</td>\n",
       "      <td>21594</td>\n",
       "      <td>107.0</td>\n",
       "    </tr>\n",
       "    <tr>\n",
       "      <th>19</th>\n",
       "      <td>Leo Willis</td>\n",
       "      <td>massa.lobortis@mattisornare.edu</td>\n",
       "      <td>Kester</td>\n",
       "      <td>31203</td>\n",
       "      <td>294.0</td>\n",
       "    </tr>\n",
       "    <tr>\n",
       "      <th>20</th>\n",
       "      <td>Matthew Hooper</td>\n",
       "      <td>libero@Nuncullamcorper.net</td>\n",
       "      <td>Bellefontaine</td>\n",
       "      <td>33222</td>\n",
       "      <td>NaN</td>\n",
       "    </tr>\n",
       "    <tr>\n",
       "      <th>21</th>\n",
       "      <td>Todd Jones</td>\n",
       "      <td>ipsum.Phasellus@ultrices.ca</td>\n",
       "      <td>Toledo</td>\n",
       "      <td>24809</td>\n",
       "      <td>NaN</td>\n",
       "    </tr>\n",
       "    <tr>\n",
       "      <th>22</th>\n",
       "      <td>Palmer Byrd</td>\n",
       "      <td>faucibus.orci@necquam.org</td>\n",
       "      <td>Bissegem</td>\n",
       "      <td>29045</td>\n",
       "      <td>NaN</td>\n",
       "    </tr>\n",
       "  </tbody>\n",
       "</table>\n",
       "</div>"
      ],
      "text/plain": [
       "               Name                                    Email            City  \\\n",
       "0     Brent Hopkins       Cum.sociis.natoque@aodiosemper.edu     Mount Pearl   \n",
       "1       Colt Bender              Vivamus.non.lorem@Proin.org  Castle Douglas   \n",
       "2    Arthur Hammond                    nisl.Maecenas@sed.net          Biloxi   \n",
       "3       Sean Warner          enim.nisl.elementum@Vivamus.edu           Moere   \n",
       "4       Tate Greene  velit.justo.nec@aliquetlobortisnisi.edu         Ipswich   \n",
       "5      Gavin Gibson    cursus.Integer.mollis@Duissitamet.org        Oordegem   \n",
       "6       Kelly Garza       cursus.non.egestas@antebibendum.ca      Kukatpalle   \n",
       "7      Zane Preston                 sed@Phasellusataugue.com        Neudrfl   \n",
       "8      Zane Preston                 sed@Phasellusataugue.com        Neudrfl   \n",
       "9   Cole Cunningham           ac.mattis.ornare@inmagna.co.uk          Catemu   \n",
       "10  Tarik Hendricks             Mauris.vestibulum@sodales.ca         Newbury   \n",
       "11    Elvis Collier                     pede@mattisvelit.org        Paradise   \n",
       "12    Elvis Collier                     pede@mattisvelit.org        Paradise   \n",
       "13    Elvis Collier                     pede@mattisvelit.org        Paradise   \n",
       "14    Jackson Huber      eros.nec.tellus@ultricesposuere.edu           Veere   \n",
       "15   Macaulay Cline                    Aliquam@arcuSedeu.edu      Campobasso   \n",
       "16     Elijah Chase                    est.mollis.non@in.net        Grantham   \n",
       "17   Dennis Anthony              mauris.ut.mi@maurisid.co.uk    Cedar Rapids   \n",
       "18    Fulton Snyder                       enim.mi@egestas.ca       San Pedro   \n",
       "19       Leo Willis          massa.lobortis@mattisornare.edu          Kester   \n",
       "20   Matthew Hooper               libero@Nuncullamcorper.net   Bellefontaine   \n",
       "21       Todd Jones              ipsum.Phasellus@ultrices.ca          Toledo   \n",
       "22      Palmer Byrd                faucibus.orci@necquam.org        Bissegem   \n",
       "\n",
       "    Salary  Days active  \n",
       "0    38363          NaN  \n",
       "1    21506          NaN  \n",
       "2    27511        138.0  \n",
       "3    25201          NaN  \n",
       "4    35052          NaN  \n",
       "5    37126        146.0  \n",
       "6    39420        212.0  \n",
       "7    28553        234.0  \n",
       "8    28553        178.0  \n",
       "9    27972          NaN  \n",
       "10   39027        195.0  \n",
       "11   22568         95.0  \n",
       "12   22568        101.0  \n",
       "13   22568        258.0  \n",
       "14   29922          NaN  \n",
       "15   24163          NaN  \n",
       "16   23881          NaN  \n",
       "17   27969        254.0  \n",
       "18   21594        107.0  \n",
       "19   31203        294.0  \n",
       "20   33222          NaN  \n",
       "21   24809          NaN  \n",
       "22   29045          NaN  "
      ]
     },
     "execution_count": 77,
     "metadata": {},
     "output_type": "execute_result"
    }
   ],
   "source": [
    "# A left join starts from the left dataset, in this case dataset_1, and for every row matches the value in the \n",
    "# column used for joining. As you will see, the result has 22 rows since some names appear multiple times in \n",
    "# the second dataset dataset_2.\n",
    "\n",
    "both = pd.merge(dataset_1, dataset_2, on='Name', how='left')\n",
    "both"
   ]
  },
  {
   "cell_type": "code",
   "execution_count": 78,
   "id": "dd198109",
   "metadata": {},
   "outputs": [
    {
     "data": {
      "text/html": [
       "<div>\n",
       "<style scoped>\n",
       "    .dataframe tbody tr th:only-of-type {\n",
       "        vertical-align: middle;\n",
       "    }\n",
       "\n",
       "    .dataframe tbody tr th {\n",
       "        vertical-align: top;\n",
       "    }\n",
       "\n",
       "    .dataframe thead th {\n",
       "        text-align: right;\n",
       "    }\n",
       "</style>\n",
       "<table border=\"1\" class=\"dataframe\">\n",
       "  <thead>\n",
       "    <tr style=\"text-align: right;\">\n",
       "      <th></th>\n",
       "      <th>Name</th>\n",
       "      <th>Email</th>\n",
       "      <th>City</th>\n",
       "      <th>Salary</th>\n",
       "      <th>Days active</th>\n",
       "    </tr>\n",
       "  </thead>\n",
       "  <tbody>\n",
       "    <tr>\n",
       "      <th>0</th>\n",
       "      <td>Arthur Hammond</td>\n",
       "      <td>nisl.Maecenas@sed.net</td>\n",
       "      <td>Biloxi</td>\n",
       "      <td>27511.0</td>\n",
       "      <td>138</td>\n",
       "    </tr>\n",
       "    <tr>\n",
       "      <th>1</th>\n",
       "      <td>Gavin Gibson</td>\n",
       "      <td>cursus.Integer.mollis@Duissitamet.org</td>\n",
       "      <td>Oordegem</td>\n",
       "      <td>37126.0</td>\n",
       "      <td>146</td>\n",
       "    </tr>\n",
       "    <tr>\n",
       "      <th>2</th>\n",
       "      <td>Kelly Garza</td>\n",
       "      <td>cursus.non.egestas@antebibendum.ca</td>\n",
       "      <td>Kukatpalle</td>\n",
       "      <td>39420.0</td>\n",
       "      <td>212</td>\n",
       "    </tr>\n",
       "    <tr>\n",
       "      <th>3</th>\n",
       "      <td>Zane Preston</td>\n",
       "      <td>sed@Phasellusataugue.com</td>\n",
       "      <td>Neudrfl</td>\n",
       "      <td>28553.0</td>\n",
       "      <td>234</td>\n",
       "    </tr>\n",
       "    <tr>\n",
       "      <th>4</th>\n",
       "      <td>Zane Preston</td>\n",
       "      <td>sed@Phasellusataugue.com</td>\n",
       "      <td>Neudrfl</td>\n",
       "      <td>28553.0</td>\n",
       "      <td>178</td>\n",
       "    </tr>\n",
       "    <tr>\n",
       "      <th>5</th>\n",
       "      <td>Tarik Hendricks</td>\n",
       "      <td>Mauris.vestibulum@sodales.ca</td>\n",
       "      <td>Newbury</td>\n",
       "      <td>39027.0</td>\n",
       "      <td>195</td>\n",
       "    </tr>\n",
       "    <tr>\n",
       "      <th>6</th>\n",
       "      <td>Elvis Collier</td>\n",
       "      <td>pede@mattisvelit.org</td>\n",
       "      <td>Paradise</td>\n",
       "      <td>22568.0</td>\n",
       "      <td>95</td>\n",
       "    </tr>\n",
       "    <tr>\n",
       "      <th>7</th>\n",
       "      <td>Elvis Collier</td>\n",
       "      <td>pede@mattisvelit.org</td>\n",
       "      <td>Paradise</td>\n",
       "      <td>22568.0</td>\n",
       "      <td>101</td>\n",
       "    </tr>\n",
       "    <tr>\n",
       "      <th>8</th>\n",
       "      <td>Elvis Collier</td>\n",
       "      <td>pede@mattisvelit.org</td>\n",
       "      <td>Paradise</td>\n",
       "      <td>22568.0</td>\n",
       "      <td>258</td>\n",
       "    </tr>\n",
       "    <tr>\n",
       "      <th>9</th>\n",
       "      <td>Dennis Anthony</td>\n",
       "      <td>mauris.ut.mi@maurisid.co.uk</td>\n",
       "      <td>Cedar Rapids</td>\n",
       "      <td>27969.0</td>\n",
       "      <td>254</td>\n",
       "    </tr>\n",
       "    <tr>\n",
       "      <th>10</th>\n",
       "      <td>Fulton Snyder</td>\n",
       "      <td>enim.mi@egestas.ca</td>\n",
       "      <td>San Pedro</td>\n",
       "      <td>21594.0</td>\n",
       "      <td>107</td>\n",
       "    </tr>\n",
       "    <tr>\n",
       "      <th>11</th>\n",
       "      <td>Leo Willis</td>\n",
       "      <td>massa.lobortis@mattisornare.edu</td>\n",
       "      <td>Kester</td>\n",
       "      <td>31203.0</td>\n",
       "      <td>294</td>\n",
       "    </tr>\n",
       "    <tr>\n",
       "      <th>12</th>\n",
       "      <td>Frederik Humblederry</td>\n",
       "      <td>NaN</td>\n",
       "      <td>NaN</td>\n",
       "      <td>NaN</td>\n",
       "      <td>299</td>\n",
       "    </tr>\n",
       "  </tbody>\n",
       "</table>\n",
       "</div>"
      ],
      "text/plain": [
       "                    Name                                  Email          City  \\\n",
       "0         Arthur Hammond                  nisl.Maecenas@sed.net        Biloxi   \n",
       "1           Gavin Gibson  cursus.Integer.mollis@Duissitamet.org      Oordegem   \n",
       "2            Kelly Garza     cursus.non.egestas@antebibendum.ca    Kukatpalle   \n",
       "3           Zane Preston               sed@Phasellusataugue.com      Neudrfl   \n",
       "4           Zane Preston               sed@Phasellusataugue.com      Neudrfl   \n",
       "5        Tarik Hendricks           Mauris.vestibulum@sodales.ca       Newbury   \n",
       "6          Elvis Collier                   pede@mattisvelit.org      Paradise   \n",
       "7          Elvis Collier                   pede@mattisvelit.org      Paradise   \n",
       "8          Elvis Collier                   pede@mattisvelit.org      Paradise   \n",
       "9         Dennis Anthony            mauris.ut.mi@maurisid.co.uk  Cedar Rapids   \n",
       "10         Fulton Snyder                     enim.mi@egestas.ca     San Pedro   \n",
       "11            Leo Willis        massa.lobortis@mattisornare.edu        Kester   \n",
       "12  Frederik Humblederry                                    NaN           NaN   \n",
       "\n",
       "     Salary  Days active  \n",
       "0   27511.0          138  \n",
       "1   37126.0          146  \n",
       "2   39420.0          212  \n",
       "3   28553.0          234  \n",
       "4   28553.0          178  \n",
       "5   39027.0          195  \n",
       "6   22568.0           95  \n",
       "7   22568.0          101  \n",
       "8   22568.0          258  \n",
       "9   27969.0          254  \n",
       "10  21594.0          107  \n",
       "11  31203.0          294  \n",
       "12      NaN          299  "
      ]
     },
     "execution_count": 78,
     "metadata": {},
     "output_type": "execute_result"
    }
   ],
   "source": [
    "# A right join does the opposite: now, dataset_2 is used to match all names with the corresponding \n",
    "# observations in dataset_1. There are as many observations as there are in dataset_2, as the rows \n",
    "# in dataset_1 are unique. The last row cannot be matched with any observation in dataset_1.\n",
    "\n",
    "both = pd.merge(dataset_1, dataset_2, on='Name', how='right')\n",
    "both"
   ]
  },
  {
   "cell_type": "code",
   "execution_count": 79,
   "id": "d273cc5a",
   "metadata": {},
   "outputs": [
    {
     "data": {
      "text/html": [
       "<div>\n",
       "<style scoped>\n",
       "    .dataframe tbody tr th:only-of-type {\n",
       "        vertical-align: middle;\n",
       "    }\n",
       "\n",
       "    .dataframe tbody tr th {\n",
       "        vertical-align: top;\n",
       "    }\n",
       "\n",
       "    .dataframe thead th {\n",
       "        text-align: right;\n",
       "    }\n",
       "</style>\n",
       "<table border=\"1\" class=\"dataframe\">\n",
       "  <thead>\n",
       "    <tr style=\"text-align: right;\">\n",
       "      <th></th>\n",
       "      <th>Name</th>\n",
       "      <th>Email</th>\n",
       "      <th>City</th>\n",
       "      <th>Salary</th>\n",
       "      <th>Days active</th>\n",
       "    </tr>\n",
       "  </thead>\n",
       "  <tbody>\n",
       "    <tr>\n",
       "      <th>0</th>\n",
       "      <td>Arthur Hammond</td>\n",
       "      <td>nisl.Maecenas@sed.net</td>\n",
       "      <td>Biloxi</td>\n",
       "      <td>27511</td>\n",
       "      <td>138</td>\n",
       "    </tr>\n",
       "    <tr>\n",
       "      <th>1</th>\n",
       "      <td>Gavin Gibson</td>\n",
       "      <td>cursus.Integer.mollis@Duissitamet.org</td>\n",
       "      <td>Oordegem</td>\n",
       "      <td>37126</td>\n",
       "      <td>146</td>\n",
       "    </tr>\n",
       "    <tr>\n",
       "      <th>2</th>\n",
       "      <td>Kelly Garza</td>\n",
       "      <td>cursus.non.egestas@antebibendum.ca</td>\n",
       "      <td>Kukatpalle</td>\n",
       "      <td>39420</td>\n",
       "      <td>212</td>\n",
       "    </tr>\n",
       "    <tr>\n",
       "      <th>3</th>\n",
       "      <td>Zane Preston</td>\n",
       "      <td>sed@Phasellusataugue.com</td>\n",
       "      <td>Neudrfl</td>\n",
       "      <td>28553</td>\n",
       "      <td>234</td>\n",
       "    </tr>\n",
       "    <tr>\n",
       "      <th>4</th>\n",
       "      <td>Zane Preston</td>\n",
       "      <td>sed@Phasellusataugue.com</td>\n",
       "      <td>Neudrfl</td>\n",
       "      <td>28553</td>\n",
       "      <td>178</td>\n",
       "    </tr>\n",
       "    <tr>\n",
       "      <th>5</th>\n",
       "      <td>Tarik Hendricks</td>\n",
       "      <td>Mauris.vestibulum@sodales.ca</td>\n",
       "      <td>Newbury</td>\n",
       "      <td>39027</td>\n",
       "      <td>195</td>\n",
       "    </tr>\n",
       "    <tr>\n",
       "      <th>6</th>\n",
       "      <td>Elvis Collier</td>\n",
       "      <td>pede@mattisvelit.org</td>\n",
       "      <td>Paradise</td>\n",
       "      <td>22568</td>\n",
       "      <td>95</td>\n",
       "    </tr>\n",
       "    <tr>\n",
       "      <th>7</th>\n",
       "      <td>Elvis Collier</td>\n",
       "      <td>pede@mattisvelit.org</td>\n",
       "      <td>Paradise</td>\n",
       "      <td>22568</td>\n",
       "      <td>101</td>\n",
       "    </tr>\n",
       "    <tr>\n",
       "      <th>8</th>\n",
       "      <td>Elvis Collier</td>\n",
       "      <td>pede@mattisvelit.org</td>\n",
       "      <td>Paradise</td>\n",
       "      <td>22568</td>\n",
       "      <td>258</td>\n",
       "    </tr>\n",
       "    <tr>\n",
       "      <th>9</th>\n",
       "      <td>Dennis Anthony</td>\n",
       "      <td>mauris.ut.mi@maurisid.co.uk</td>\n",
       "      <td>Cedar Rapids</td>\n",
       "      <td>27969</td>\n",
       "      <td>254</td>\n",
       "    </tr>\n",
       "    <tr>\n",
       "      <th>10</th>\n",
       "      <td>Fulton Snyder</td>\n",
       "      <td>enim.mi@egestas.ca</td>\n",
       "      <td>San Pedro</td>\n",
       "      <td>21594</td>\n",
       "      <td>107</td>\n",
       "    </tr>\n",
       "    <tr>\n",
       "      <th>11</th>\n",
       "      <td>Leo Willis</td>\n",
       "      <td>massa.lobortis@mattisornare.edu</td>\n",
       "      <td>Kester</td>\n",
       "      <td>31203</td>\n",
       "      <td>294</td>\n",
       "    </tr>\n",
       "  </tbody>\n",
       "</table>\n",
       "</div>"
      ],
      "text/plain": [
       "               Name                                  Email          City  \\\n",
       "0    Arthur Hammond                  nisl.Maecenas@sed.net        Biloxi   \n",
       "1      Gavin Gibson  cursus.Integer.mollis@Duissitamet.org      Oordegem   \n",
       "2       Kelly Garza     cursus.non.egestas@antebibendum.ca    Kukatpalle   \n",
       "3      Zane Preston               sed@Phasellusataugue.com      Neudrfl   \n",
       "4      Zane Preston               sed@Phasellusataugue.com      Neudrfl   \n",
       "5   Tarik Hendricks           Mauris.vestibulum@sodales.ca       Newbury   \n",
       "6     Elvis Collier                   pede@mattisvelit.org      Paradise   \n",
       "7     Elvis Collier                   pede@mattisvelit.org      Paradise   \n",
       "8     Elvis Collier                   pede@mattisvelit.org      Paradise   \n",
       "9    Dennis Anthony            mauris.ut.mi@maurisid.co.uk  Cedar Rapids   \n",
       "10    Fulton Snyder                     enim.mi@egestas.ca     San Pedro   \n",
       "11       Leo Willis        massa.lobortis@mattisornare.edu        Kester   \n",
       "\n",
       "    Salary  Days active  \n",
       "0    27511          138  \n",
       "1    37126          146  \n",
       "2    39420          212  \n",
       "3    28553          234  \n",
       "4    28553          178  \n",
       "5    39027          195  \n",
       "6    22568           95  \n",
       "7    22568          101  \n",
       "8    22568          258  \n",
       "9    27969          254  \n",
       "10   21594          107  \n",
       "11   31203          294  "
      ]
     },
     "execution_count": 79,
     "metadata": {},
     "output_type": "execute_result"
    }
   ],
   "source": [
    "# Inner and outer join\n",
    "# It is also possible to only retain the values that are matched in both tables, or match any value \n",
    "# that matches. This is using an inner and outer join respectively.\n",
    "\n",
    "both = pd.merge(dataset_1, dataset_2, on='Name', how='inner')\n",
    "both"
   ]
  },
  {
   "cell_type": "markdown",
   "id": "09c39376",
   "metadata": {},
   "source": [
    "Notice how observation 12 is missing, as there is no corresponding value in `dataset_1`."
   ]
  },
  {
   "cell_type": "code",
   "execution_count": 80,
   "id": "0e8272c0",
   "metadata": {},
   "outputs": [
    {
     "data": {
      "text/html": [
       "<div>\n",
       "<style scoped>\n",
       "    .dataframe tbody tr th:only-of-type {\n",
       "        vertical-align: middle;\n",
       "    }\n",
       "\n",
       "    .dataframe tbody tr th {\n",
       "        vertical-align: top;\n",
       "    }\n",
       "\n",
       "    .dataframe thead th {\n",
       "        text-align: right;\n",
       "    }\n",
       "</style>\n",
       "<table border=\"1\" class=\"dataframe\">\n",
       "  <thead>\n",
       "    <tr style=\"text-align: right;\">\n",
       "      <th></th>\n",
       "      <th>Name</th>\n",
       "      <th>Email</th>\n",
       "      <th>City</th>\n",
       "      <th>Salary</th>\n",
       "      <th>Days active</th>\n",
       "    </tr>\n",
       "  </thead>\n",
       "  <tbody>\n",
       "    <tr>\n",
       "      <th>0</th>\n",
       "      <td>Brent Hopkins</td>\n",
       "      <td>Cum.sociis.natoque@aodiosemper.edu</td>\n",
       "      <td>Mount Pearl</td>\n",
       "      <td>38363.0</td>\n",
       "      <td>NaN</td>\n",
       "    </tr>\n",
       "    <tr>\n",
       "      <th>1</th>\n",
       "      <td>Colt Bender</td>\n",
       "      <td>Vivamus.non.lorem@Proin.org</td>\n",
       "      <td>Castle Douglas</td>\n",
       "      <td>21506.0</td>\n",
       "      <td>NaN</td>\n",
       "    </tr>\n",
       "    <tr>\n",
       "      <th>2</th>\n",
       "      <td>Arthur Hammond</td>\n",
       "      <td>nisl.Maecenas@sed.net</td>\n",
       "      <td>Biloxi</td>\n",
       "      <td>27511.0</td>\n",
       "      <td>138.0</td>\n",
       "    </tr>\n",
       "    <tr>\n",
       "      <th>3</th>\n",
       "      <td>Sean Warner</td>\n",
       "      <td>enim.nisl.elementum@Vivamus.edu</td>\n",
       "      <td>Moere</td>\n",
       "      <td>25201.0</td>\n",
       "      <td>NaN</td>\n",
       "    </tr>\n",
       "    <tr>\n",
       "      <th>4</th>\n",
       "      <td>Tate Greene</td>\n",
       "      <td>velit.justo.nec@aliquetlobortisnisi.edu</td>\n",
       "      <td>Ipswich</td>\n",
       "      <td>35052.0</td>\n",
       "      <td>NaN</td>\n",
       "    </tr>\n",
       "    <tr>\n",
       "      <th>5</th>\n",
       "      <td>Gavin Gibson</td>\n",
       "      <td>cursus.Integer.mollis@Duissitamet.org</td>\n",
       "      <td>Oordegem</td>\n",
       "      <td>37126.0</td>\n",
       "      <td>146.0</td>\n",
       "    </tr>\n",
       "    <tr>\n",
       "      <th>6</th>\n",
       "      <td>Kelly Garza</td>\n",
       "      <td>cursus.non.egestas@antebibendum.ca</td>\n",
       "      <td>Kukatpalle</td>\n",
       "      <td>39420.0</td>\n",
       "      <td>212.0</td>\n",
       "    </tr>\n",
       "    <tr>\n",
       "      <th>7</th>\n",
       "      <td>Zane Preston</td>\n",
       "      <td>sed@Phasellusataugue.com</td>\n",
       "      <td>Neudrfl</td>\n",
       "      <td>28553.0</td>\n",
       "      <td>234.0</td>\n",
       "    </tr>\n",
       "    <tr>\n",
       "      <th>8</th>\n",
       "      <td>Zane Preston</td>\n",
       "      <td>sed@Phasellusataugue.com</td>\n",
       "      <td>Neudrfl</td>\n",
       "      <td>28553.0</td>\n",
       "      <td>178.0</td>\n",
       "    </tr>\n",
       "    <tr>\n",
       "      <th>9</th>\n",
       "      <td>Cole Cunningham</td>\n",
       "      <td>ac.mattis.ornare@inmagna.co.uk</td>\n",
       "      <td>Catemu</td>\n",
       "      <td>27972.0</td>\n",
       "      <td>NaN</td>\n",
       "    </tr>\n",
       "    <tr>\n",
       "      <th>10</th>\n",
       "      <td>Tarik Hendricks</td>\n",
       "      <td>Mauris.vestibulum@sodales.ca</td>\n",
       "      <td>Newbury</td>\n",
       "      <td>39027.0</td>\n",
       "      <td>195.0</td>\n",
       "    </tr>\n",
       "    <tr>\n",
       "      <th>11</th>\n",
       "      <td>Elvis Collier</td>\n",
       "      <td>pede@mattisvelit.org</td>\n",
       "      <td>Paradise</td>\n",
       "      <td>22568.0</td>\n",
       "      <td>95.0</td>\n",
       "    </tr>\n",
       "    <tr>\n",
       "      <th>12</th>\n",
       "      <td>Elvis Collier</td>\n",
       "      <td>pede@mattisvelit.org</td>\n",
       "      <td>Paradise</td>\n",
       "      <td>22568.0</td>\n",
       "      <td>101.0</td>\n",
       "    </tr>\n",
       "    <tr>\n",
       "      <th>13</th>\n",
       "      <td>Elvis Collier</td>\n",
       "      <td>pede@mattisvelit.org</td>\n",
       "      <td>Paradise</td>\n",
       "      <td>22568.0</td>\n",
       "      <td>258.0</td>\n",
       "    </tr>\n",
       "    <tr>\n",
       "      <th>14</th>\n",
       "      <td>Jackson Huber</td>\n",
       "      <td>eros.nec.tellus@ultricesposuere.edu</td>\n",
       "      <td>Veere</td>\n",
       "      <td>29922.0</td>\n",
       "      <td>NaN</td>\n",
       "    </tr>\n",
       "    <tr>\n",
       "      <th>15</th>\n",
       "      <td>Macaulay Cline</td>\n",
       "      <td>Aliquam@arcuSedeu.edu</td>\n",
       "      <td>Campobasso</td>\n",
       "      <td>24163.0</td>\n",
       "      <td>NaN</td>\n",
       "    </tr>\n",
       "    <tr>\n",
       "      <th>16</th>\n",
       "      <td>Elijah Chase</td>\n",
       "      <td>est.mollis.non@in.net</td>\n",
       "      <td>Grantham</td>\n",
       "      <td>23881.0</td>\n",
       "      <td>NaN</td>\n",
       "    </tr>\n",
       "    <tr>\n",
       "      <th>17</th>\n",
       "      <td>Dennis Anthony</td>\n",
       "      <td>mauris.ut.mi@maurisid.co.uk</td>\n",
       "      <td>Cedar Rapids</td>\n",
       "      <td>27969.0</td>\n",
       "      <td>254.0</td>\n",
       "    </tr>\n",
       "    <tr>\n",
       "      <th>18</th>\n",
       "      <td>Fulton Snyder</td>\n",
       "      <td>enim.mi@egestas.ca</td>\n",
       "      <td>San Pedro</td>\n",
       "      <td>21594.0</td>\n",
       "      <td>107.0</td>\n",
       "    </tr>\n",
       "    <tr>\n",
       "      <th>19</th>\n",
       "      <td>Leo Willis</td>\n",
       "      <td>massa.lobortis@mattisornare.edu</td>\n",
       "      <td>Kester</td>\n",
       "      <td>31203.0</td>\n",
       "      <td>294.0</td>\n",
       "    </tr>\n",
       "    <tr>\n",
       "      <th>20</th>\n",
       "      <td>Matthew Hooper</td>\n",
       "      <td>libero@Nuncullamcorper.net</td>\n",
       "      <td>Bellefontaine</td>\n",
       "      <td>33222.0</td>\n",
       "      <td>NaN</td>\n",
       "    </tr>\n",
       "    <tr>\n",
       "      <th>21</th>\n",
       "      <td>Todd Jones</td>\n",
       "      <td>ipsum.Phasellus@ultrices.ca</td>\n",
       "      <td>Toledo</td>\n",
       "      <td>24809.0</td>\n",
       "      <td>NaN</td>\n",
       "    </tr>\n",
       "    <tr>\n",
       "      <th>22</th>\n",
       "      <td>Palmer Byrd</td>\n",
       "      <td>faucibus.orci@necquam.org</td>\n",
       "      <td>Bissegem</td>\n",
       "      <td>29045.0</td>\n",
       "      <td>NaN</td>\n",
       "    </tr>\n",
       "    <tr>\n",
       "      <th>23</th>\n",
       "      <td>Frederik Humblederry</td>\n",
       "      <td>NaN</td>\n",
       "      <td>NaN</td>\n",
       "      <td>NaN</td>\n",
       "      <td>299.0</td>\n",
       "    </tr>\n",
       "  </tbody>\n",
       "</table>\n",
       "</div>"
      ],
      "text/plain": [
       "                    Name                                    Email  \\\n",
       "0          Brent Hopkins       Cum.sociis.natoque@aodiosemper.edu   \n",
       "1            Colt Bender              Vivamus.non.lorem@Proin.org   \n",
       "2         Arthur Hammond                    nisl.Maecenas@sed.net   \n",
       "3            Sean Warner          enim.nisl.elementum@Vivamus.edu   \n",
       "4            Tate Greene  velit.justo.nec@aliquetlobortisnisi.edu   \n",
       "5           Gavin Gibson    cursus.Integer.mollis@Duissitamet.org   \n",
       "6            Kelly Garza       cursus.non.egestas@antebibendum.ca   \n",
       "7           Zane Preston                 sed@Phasellusataugue.com   \n",
       "8           Zane Preston                 sed@Phasellusataugue.com   \n",
       "9        Cole Cunningham           ac.mattis.ornare@inmagna.co.uk   \n",
       "10       Tarik Hendricks             Mauris.vestibulum@sodales.ca   \n",
       "11         Elvis Collier                     pede@mattisvelit.org   \n",
       "12         Elvis Collier                     pede@mattisvelit.org   \n",
       "13         Elvis Collier                     pede@mattisvelit.org   \n",
       "14         Jackson Huber      eros.nec.tellus@ultricesposuere.edu   \n",
       "15        Macaulay Cline                    Aliquam@arcuSedeu.edu   \n",
       "16          Elijah Chase                    est.mollis.non@in.net   \n",
       "17        Dennis Anthony              mauris.ut.mi@maurisid.co.uk   \n",
       "18         Fulton Snyder                       enim.mi@egestas.ca   \n",
       "19            Leo Willis          massa.lobortis@mattisornare.edu   \n",
       "20        Matthew Hooper               libero@Nuncullamcorper.net   \n",
       "21            Todd Jones              ipsum.Phasellus@ultrices.ca   \n",
       "22           Palmer Byrd                faucibus.orci@necquam.org   \n",
       "23  Frederik Humblederry                                      NaN   \n",
       "\n",
       "              City   Salary  Days active  \n",
       "0      Mount Pearl  38363.0          NaN  \n",
       "1   Castle Douglas  21506.0          NaN  \n",
       "2           Biloxi  27511.0        138.0  \n",
       "3            Moere  25201.0          NaN  \n",
       "4          Ipswich  35052.0          NaN  \n",
       "5         Oordegem  37126.0        146.0  \n",
       "6       Kukatpalle  39420.0        212.0  \n",
       "7         Neudrfl  28553.0        234.0  \n",
       "8         Neudrfl  28553.0        178.0  \n",
       "9           Catemu  27972.0          NaN  \n",
       "10         Newbury  39027.0        195.0  \n",
       "11        Paradise  22568.0         95.0  \n",
       "12        Paradise  22568.0        101.0  \n",
       "13        Paradise  22568.0        258.0  \n",
       "14           Veere  29922.0          NaN  \n",
       "15      Campobasso  24163.0          NaN  \n",
       "16        Grantham  23881.0          NaN  \n",
       "17    Cedar Rapids  27969.0        254.0  \n",
       "18       San Pedro  21594.0        107.0  \n",
       "19          Kester  31203.0        294.0  \n",
       "20   Bellefontaine  33222.0          NaN  \n",
       "21          Toledo  24809.0          NaN  \n",
       "22        Bissegem  29045.0          NaN  \n",
       "23             NaN      NaN        299.0  "
      ]
     },
     "execution_count": 80,
     "metadata": {},
     "output_type": "execute_result"
    }
   ],
   "source": [
    "both = pd.merge(dataset_1, dataset_2, on='Name', how='outer')\n",
    "both"
   ]
  },
  {
   "cell_type": "markdown",
   "id": "d249e1bf",
   "metadata": {},
   "source": [
    "In the last table, we have 23 rows, as both matching and non-matching values are returned.\n",
    "\n",
    "Merging datasets can be really helpful. This code should give you ample ideas on how to do this quickly yourself. As always, there are a number of ways of achieving the same result. Don't hold back to explore other solutions that might be quicker or easier."
   ]
  },
  {
   "cell_type": "markdown",
   "id": "4d2cee09",
   "metadata": {},
   "source": [
    "# scikit-learn"
   ]
  },
  {
   "cell_type": "markdown",
   "id": "7d57636d",
   "metadata": {},
   "source": [
    "scikit-learn is great for performing all major data analysis operations. It also contains datasets. In this code, we will load a dataset and fit a simple linear regression."
   ]
  },
  {
   "cell_type": "code",
   "execution_count": 81,
   "id": "5daa6bba",
   "metadata": {},
   "outputs": [],
   "source": [
    "from sklearn import datasets as ds"
   ]
  },
  {
   "cell_type": "code",
   "execution_count": 82,
   "id": "3da9f567",
   "metadata": {},
   "outputs": [
    {
     "name": "stdout",
     "output_type": "stream",
     "text": [
      "dict_keys(['data', 'target', 'feature_names', 'DESCR', 'filename'])\n"
     ]
    }
   ],
   "source": [
    "# Load the Boston Housing dataset\n",
    "dataset = ds.load_boston()\n",
    "\n",
    "# It is a dictionary, see the keys for details:\n",
    "print(dataset.keys())"
   ]
  },
  {
   "cell_type": "code",
   "execution_count": 83,
   "id": "d4420f50",
   "metadata": {},
   "outputs": [
    {
     "name": "stdout",
     "output_type": "stream",
     "text": [
      ".. _boston_dataset:\n",
      "\n",
      "Boston house prices dataset\n",
      "---------------------------\n",
      "\n",
      "**Data Set Characteristics:**  \n",
      "\n",
      "    :Number of Instances: 506 \n",
      "\n",
      "    :Number of Attributes: 13 numeric/categorical predictive. Median Value (attribute 14) is usually the target.\n",
      "\n",
      "    :Attribute Information (in order):\n",
      "        - CRIM     per capita crime rate by town\n",
      "        - ZN       proportion of residential land zoned for lots over 25,000 sq.ft.\n",
      "        - INDUS    proportion of non-retail business acres per town\n",
      "        - CHAS     Charles River dummy variable (= 1 if tract bounds river; 0 otherwise)\n",
      "        - NOX      nitric oxides concentration (parts per 10 million)\n",
      "        - RM       average number of rooms per dwelling\n",
      "        - AGE      proportion of owner-occupied units built prior to 1940\n",
      "        - DIS      weighted distances to five Boston employment centres\n",
      "        - RAD      index of accessibility to radial highways\n",
      "        - TAX      full-value property-tax rate per $10,000\n",
      "        - PTRATIO  pupil-teacher ratio by town\n",
      "        - B        1000(Bk - 0.63)^2 where Bk is the proportion of blacks by town\n",
      "        - LSTAT    % lower status of the population\n",
      "        - MEDV     Median value of owner-occupied homes in $1000's\n",
      "\n",
      "    :Missing Attribute Values: None\n",
      "\n",
      "    :Creator: Harrison, D. and Rubinfeld, D.L.\n",
      "\n",
      "This is a copy of UCI ML housing dataset.\n",
      "https://archive.ics.uci.edu/ml/machine-learning-databases/housing/\n",
      "\n",
      "\n",
      "This dataset was taken from the StatLib library which is maintained at Carnegie Mellon University.\n",
      "\n",
      "The Boston house-price data of Harrison, D. and Rubinfeld, D.L. 'Hedonic\n",
      "prices and the demand for clean air', J. Environ. Economics & Management,\n",
      "vol.5, 81-102, 1978.   Used in Belsley, Kuh & Welsch, 'Regression diagnostics\n",
      "...', Wiley, 1980.   N.B. Various transformations are used in the table on\n",
      "pages 244-261 of the latter.\n",
      "\n",
      "The Boston house-price data has been used in many machine learning papers that address regression\n",
      "problems.   \n",
      "     \n",
      ".. topic:: References\n",
      "\n",
      "   - Belsley, Kuh & Welsch, 'Regression diagnostics: Identifying Influential Data and Sources of Collinearity', Wiley, 1980. 244-261.\n",
      "   - Quinlan,R. (1993). Combining Instance-Based and Model-Based Learning. In Proceedings on the Tenth International Conference of Machine Learning, 236-243, University of Massachusetts, Amherst. Morgan Kaufmann.\n",
      "\n"
     ]
    }
   ],
   "source": [
    "# The 'DESCR' key holds a description text for the whole dataset\n",
    "print(dataset['DESCR'])"
   ]
  },
  {
   "cell_type": "code",
   "execution_count": 84,
   "id": "ef8f9d0f",
   "metadata": {},
   "outputs": [
    {
     "name": "stdout",
     "output_type": "stream",
     "text": [
      "      CRIM    ZN  INDUS  CHAS    NOX     RM   AGE     DIS  RAD    TAX  \\\n",
      "0  0.00632  18.0   2.31   0.0  0.538  6.575  65.2  4.0900  1.0  296.0   \n",
      "1  0.02731   0.0   7.07   0.0  0.469  6.421  78.9  4.9671  2.0  242.0   \n",
      "2  0.02729   0.0   7.07   0.0  0.469  7.185  61.1  4.9671  2.0  242.0   \n",
      "3  0.03237   0.0   2.18   0.0  0.458  6.998  45.8  6.0622  3.0  222.0   \n",
      "4  0.06905   0.0   2.18   0.0  0.458  7.147  54.2  6.0622  3.0  222.0   \n",
      "\n",
      "   PTRATIO       B  LSTAT  \n",
      "0     15.3  396.90   4.98  \n",
      "1     17.8  396.90   9.14  \n",
      "2     17.8  392.83   4.03  \n",
      "3     18.7  394.63   2.94  \n",
      "4     18.7  396.90   5.33  \n"
     ]
    }
   ],
   "source": [
    "# The data (independent variables) are stored under the 'data' key\n",
    "# The names of the independent variables are stored in the 'feature_names' key\n",
    "# Let's use them to create a DataFrame object:\n",
    "df = pd.DataFrame(data=dataset['data'], columns=dataset['feature_names'])\n",
    "print(df.head())"
   ]
  },
  {
   "cell_type": "code",
   "execution_count": 85,
   "id": "eca752d0",
   "metadata": {},
   "outputs": [
    {
     "name": "stdout",
     "output_type": "stream",
     "text": [
      "   target\n",
      "0    24.0\n",
      "1    21.6\n",
      "2    34.7\n",
      "3    33.4\n",
      "4    36.2\n"
     ]
    }
   ],
   "source": [
    "# The dependent variable is stored separately\n",
    "df_y = pd.DataFrame(data=dataset['target'], columns=['target'])\n",
    "print(df_y.head())"
   ]
  },
  {
   "cell_type": "code",
   "execution_count": 86,
   "id": "3dc1b3bd",
   "metadata": {},
   "outputs": [
    {
     "name": "stdout",
     "output_type": "stream",
     "text": [
      "0.7406426641094095\n"
     ]
    }
   ],
   "source": [
    "# Now, let's build a linear regression model\n",
    "from sklearn.linear_model import LinearRegression as LR\n",
    "\n",
    "# First we create a linear regression object\n",
    "regression = LR()\n",
    "\n",
    "# Then, we fit the independent and dependent data\n",
    "regression.fit(df, df_y)\n",
    "\n",
    "# We can obtain the R^2 score (more on this later)\n",
    "print(regression.score(df, df_y))"
   ]
  },
  {
   "cell_type": "markdown",
   "id": "407df454",
   "metadata": {},
   "source": [
    "Very often, we need to perform an operation on a single observation. In that case, we have to reshape the data using numpy:"
   ]
  },
  {
   "cell_type": "code",
   "execution_count": 87,
   "id": "8aff488e",
   "metadata": {},
   "outputs": [
    {
     "name": "stdout",
     "output_type": "stream",
     "text": [
      "CRIM         0.02729\n",
      "ZN           0.00000\n",
      "INDUS        7.07000\n",
      "CHAS         0.00000\n",
      "NOX          0.46900\n",
      "RM           7.18500\n",
      "AGE         61.10000\n",
      "DIS          4.96710\n",
      "RAD          2.00000\n",
      "TAX        242.00000\n",
      "PTRATIO     17.80000\n",
      "B          392.83000\n",
      "LSTAT        4.03000\n",
      "Name: 2, dtype: float64\n",
      "[2.7290e-02 0.0000e+00 7.0700e+00 0.0000e+00 4.6900e-01 7.1850e+00\n",
      " 6.1100e+01 4.9671e+00 2.0000e+00 2.4200e+02 1.7800e+01 3.9283e+02\n",
      " 4.0300e+00]\n",
      "[[2.7290e-02 0.0000e+00 7.0700e+00 0.0000e+00 4.6900e-01 7.1850e+00\n",
      "  6.1100e+01 4.9671e+00 2.0000e+00 2.4200e+02 1.7800e+01 3.9283e+02\n",
      "  4.0300e+00]]\n"
     ]
    }
   ],
   "source": [
    "# Consider a single observation \n",
    "so = df.loc[2, :]\n",
    "print(so)\n",
    "\n",
    "# Just the values of the observation without meta data\n",
    "print(so.values)\n",
    "\n",
    "# Reshaping yields a new matrix with one row with as many columns as the original observation (indicated by the -1)\n",
    "print(np.reshape(so.values, (1, -1)))"
   ]
  },
  {
   "cell_type": "code",
   "execution_count": 88,
   "id": "6ba73427",
   "metadata": {},
   "outputs": [
    {
     "name": "stdout",
     "output_type": "stream",
     "text": [
      "[[2.7290e-02 0.0000e+00 7.0700e+00 0.0000e+00 4.6900e-01 7.1850e+00\n",
      "  6.1100e+01 4.9671e+00 2.0000e+00 2.4200e+02 1.7800e+01 3.9283e+02\n",
      "  4.0300e+00]\n",
      " [3.2370e-02 0.0000e+00 2.1800e+00 0.0000e+00 4.5800e-01 6.9980e+00\n",
      "  4.5800e+01 6.0622e+00 3.0000e+00 2.2200e+02 1.8700e+01 3.9463e+02\n",
      "  2.9400e+00]]\n"
     ]
    }
   ],
   "source": [
    "# For two observations:\n",
    "so_2 = df.loc[2:3, :]\n",
    "print(np.reshape(so_2.values, (2, -1)))"
   ]
  },
  {
   "cell_type": "markdown",
   "id": "f83f2ebc",
   "metadata": {},
   "source": [
    "This concludes our quick run-through of some basic functionality of the modules. Later on, we will use more and more specialized functions and objects, but for now this allows you to play around with data already."
   ]
  },
  {
   "cell_type": "markdown",
   "id": "f51820b8",
   "metadata": {},
   "source": [
    "# Visualisation"
   ]
  },
  {
   "cell_type": "markdown",
   "id": "9cea6a87",
   "metadata": {},
   "source": [
    "The visualisations often require a bit of tricks and extra lines of code to make things look better. This is often confusing at first, but it will become more and more intuitive once you get the hang of how the general ideas work. We will be working mostly with Matplotlib (often imported as plt), Numpy (np), and pandas (pd). Often, both Matplotlib and pandas offer similar solutions, but one is often slightly more convenient than the other in various situations. Make sure to look up some of the alternatives, as they might also make more sense to you."
   ]
  },
  {
   "cell_type": "code",
   "execution_count": 89,
   "id": "c2830634",
   "metadata": {},
   "outputs": [],
   "source": [
    "# First, we need to import our packages\n",
    "import numpy as np\n",
    "import matplotlib.pyplot as plt\n",
    "import pandas as pd"
   ]
  },
  {
   "cell_type": "markdown",
   "id": "ae867122",
   "metadata": {},
   "source": [
    "## Pie and bar chart"
   ]
  },
  {
   "cell_type": "code",
   "execution_count": 90,
   "id": "ea844fa8",
   "metadata": {},
   "outputs": [
    {
     "data": {
      "image/png": "[encoded data removed]",
      "text/plain": [
       "<Figure size 432x288 with 1 Axes>"
      ]
     },
     "metadata": {},
     "output_type": "display_data"
    }
   ],
   "source": [
    "# Data to plot\n",
    "labels = 'classification', 'regression', 'time series'\n",
    "sizes = [10, 22, 2]\n",
    "\n",
    "colors = ['lightblue', 'lightgreen', 'pink']\n",
    "\n",
    "# Allows us to highlight a certain piece of the pie chart\n",
    "explode = (0.1, 0, 0)  \n",
    " \n",
    "# Plot a pie chart with the pie() function. Notice how various parameters are given for coloring, labels, etc.\n",
    "# They should be relatively self-explanatory\n",
    "plt.pie(sizes, explode=explode, labels=labels, colors=colors,\n",
    "        autopct='%1.1f%%', shadow=True, startangle=90)\n",
    " \n",
    "# This function makes the axes equal, so the circle is round\n",
    "plt.axis('equal')\n",
    "\n",
    "# Add a title to the plot\n",
    "plt.title(\"Pie chart of modelling techniques\")\n",
    "\n",
    "# Finally, show the plot\n",
    "plt.show()"
   ]
  },
  {
   "cell_type": "markdown",
   "id": "e7143f64",
   "metadata": {},
   "source": [
    "Adding a legend:"
   ]
  },
  {
   "cell_type": "code",
   "execution_count": 91,
   "id": "f5726ca2",
   "metadata": {},
   "outputs": [
    {
     "data": {
      "image/png": "[encoded data removed]",
      "text/plain": [
       "<Figure size 432x288 with 1 Axes>"
      ]
     },
     "metadata": {},
     "output_type": "display_data"
    }
   ],
   "source": [
    "patches, texts = plt.pie(sizes, colors=colors, shadow=True, startangle=90)\n",
    "plt.legend(patches, labels, loc=\"best\")\n",
    "plt.axis('equal')\n",
    "plt.title(\"Pie chart of modelling techniques\")\n",
    "plt.show()"
   ]
  },
  {
   "cell_type": "code",
   "execution_count": 92,
   "id": "dfb66dec",
   "metadata": {},
   "outputs": [
    {
     "data": {
      "image/png": "[encoded data removed]",
      "text/plain": [
       "<Figure size 432x288 with 1 Axes>"
      ]
     },
     "metadata": {
      "needs_background": "light"
     },
     "output_type": "display_data"
    }
   ],
   "source": [
    "# Bar charts are relatively similar. Here we use the bar() function\n",
    "plt.bar(labels, sizes, align='center')\n",
    "plt.xticks(labels)\n",
    "plt.ylabel('#use cases')\n",
    "plt.title('Bar chart of modelling technique')\n",
    "plt.show()"
   ]
  },
  {
   "cell_type": "markdown",
   "id": "cc2f6e9a",
   "metadata": {},
   "source": [
    "## Histogram"
   ]
  },
  {
   "cell_type": "code",
   "execution_count": 93,
   "id": "ef4b9606",
   "metadata": {},
   "outputs": [
    {
     "data": {
      "image/png": "[encoded data removed]",
      "text/plain": [
       "<Figure size 432x288 with 1 Axes>"
      ]
     },
     "metadata": {
      "needs_background": "light"
     },
     "output_type": "display_data"
    }
   ],
   "source": [
    "# This function plots a diagram with the 'data' object providing the data\n",
    "# bins are calculated automatically, as indicated by the 'auto' option, which makes them relatively balanced and\n",
    "# sets appropriate boundaries\n",
    "# color sets the color of the bars\n",
    "# the rwidth sets the bars to somewhat slightly less wide than the bins are wide to leave space between the bars\n",
    "data = np.random.normal(10, 2, 1000)\n",
    "plt.hist(x= data, bins='auto', color='#008000', rwidth=0.85)\n",
    "\n",
    "# For more information on colour codes, please visit: https://htmlcolorcodes.com/\n",
    "\n",
    "# Additionally, some options are added:\n",
    "\n",
    "# This option sets the grid of the plot to follow the values on the y-axis\n",
    "plt.grid(axis='y')\n",
    "\n",
    "# Adds a label to the x-axis\n",
    "plt.xlabel('Value')\n",
    "\n",
    "# Adds a label to the y-axis\n",
    "plt.ylabel('Frequency')\n",
    "\n",
    "# Adds a title to the plot\n",
    "plt.title('Histogram of x')\n",
    "\n",
    "# Makes the plot visible in the program\n",
    "plt.show()"
   ]
  },
  {
   "cell_type": "code",
   "execution_count": 94,
   "id": "6ac92d45",
   "metadata": {},
   "outputs": [
    {
     "data": {
      "image/png": "[encoded data removed]",
      "text/plain": [
       "<Figure size 432x288 with 1 Axes>"
      ]
     },
     "metadata": {
      "needs_background": "light"
     },
     "output_type": "display_data"
    }
   ],
   "source": [
    "# Here, a different color and manually-specified bins are used\n",
    "plt.hist(x= data, bins=[0,1,2,3,4,5,6,7,8,9,10], color='olive', rwidth=0.85)\n",
    "plt.grid(axis='y')\n",
    "plt.xlabel('Value')\n",
    "plt.ylabel('Frequency')\n",
    "plt.title('Histogram of x and y')\n",
    "plt.show()"
   ]
  },
  {
   "cell_type": "markdown",
   "id": "1c44b2f0",
   "metadata": {},
   "source": [
    "See how we cut the tail off the distribution."
   ]
  },
  {
   "cell_type": "code",
   "execution_count": 95,
   "id": "ed2bdb29",
   "metadata": {},
   "outputs": [
    {
     "data": {
      "image/png": "[encoded data removed]",
      "text/plain": [
       "<Figure size 432x288 with 1 Axes>"
      ]
     },
     "metadata": {
      "needs_background": "light"
     },
     "output_type": "display_data"
    }
   ],
   "source": [
    "# Now, let's build a histogram with radomly generated data that follows a normal distribution\n",
    "# Mean = 10, stddev = 15, sample size = 1,000\n",
    "# More on random numbers will follow in module 2\n",
    "s = np.random.normal(10, 15, 1000)\n",
    "\n",
    "plt.hist(x=s, bins='auto', color='#008000', rwidth=0.85)\n",
    "plt.grid(axis='y')\n",
    "plt.xlabel('Value')\n",
    "plt.ylabel('Frequency')\n",
    "plt.title('Histogram of x')\n",
    "plt.show()"
   ]
  },
  {
   "cell_type": "markdown",
   "id": "eb29f810",
   "metadata": {},
   "source": [
    "## Boxplot"
   ]
  },
  {
   "cell_type": "code",
   "execution_count": 96,
   "id": "f5d72a4f",
   "metadata": {},
   "outputs": [
    {
     "data": {
      "image/png": "[encoded data removed]",
      "text/plain": [
       "<Figure size 432x288 with 2 Axes>"
      ]
     },
     "metadata": {
      "needs_background": "light"
     },
     "output_type": "display_data"
    }
   ],
   "source": [
    "# Boxplots are even easier. We can just use the boxplot() function without many parameters\n",
    "# We use the implementation of Pandas, which relies on Matplotlib in the background\n",
    "# We now use subplots.\n",
    "data = [3,8,3,4,1,7,5,3,8,2,7,3,1,6,10,10,3,6,5,10]\n",
    "# Subplot with 1 row, 2 columns, here we add figure 1 of 2 (first row, first column)\n",
    "plt.subplot(1,2,1)   \n",
    "plt.boxplot(data)\n",
    "\n",
    "data_2 = [3,8,3,4,1,7,5,3,8,2,7,3,1,6,10,10,3,6,5,10, 99,87,45,-20]\n",
    "# Here we add figure 2 of 2, hence it will be positioned in the second column of the first row\n",
    "plt.subplot(1,2,2)   \n",
    "plt.boxplot(data_2)\n",
    "plt.show()"
   ]
  },
  {
   "cell_type": "markdown",
   "id": "06a803a8",
   "metadata": {},
   "source": [
    "Boxplot for multiple variables:"
   ]
  },
  {
   "cell_type": "code",
   "execution_count": 97,
   "id": "2194b61d",
   "metadata": {},
   "outputs": [
    {
     "name": "stdout",
     "output_type": "stream",
     "text": [
      "     class.      reg.  time series\n",
      "0  0.402362  0.348025     0.893360\n",
      "1  0.496534  0.454527     0.631422\n",
      "2  0.268591  0.815153     0.371747\n",
      "3  0.596372  0.121358     0.591864\n",
      "4  0.575830  0.964928     0.908575\n",
      "5  0.380839  0.435604     0.488436\n",
      "6  0.788519  0.562830     0.303210\n",
      "7  0.424057  0.888664     0.476388\n",
      "8  0.699300  0.380225     0.776302\n",
      "9  0.463731  0.239730     0.686004\n"
     ]
    },
    {
     "data": {
      "image/png": "[encoded data removed]",
      "text/plain": [
       "<Figure size 432x288 with 1 Axes>"
      ]
     },
     "metadata": {
      "needs_background": "light"
     },
     "output_type": "display_data"
    },
    {
     "data": {
      "image/png": "[encoded data removed]",
      "text/plain": [
       "<Figure size 432x288 with 4 Axes>"
      ]
     },
     "metadata": {
      "needs_background": "light"
     },
     "output_type": "display_data"
    }
   ],
   "source": [
    "# Generate 4 columns with 10 observations\n",
    "df = pd.DataFrame(data = np.random.random(size=(10,3)), columns = ['class.','reg.','time series'])\n",
    "print(df)\n",
    "\n",
    "boxplot = df.boxplot()\n",
    "plt.title('Triple boxplot')\n",
    "plt.show()\n",
    "\n",
    "df = pd.DataFrame(data = np.random.random(size=(10,3)), columns = ['class.','reg.','time series'])\n",
    "df['number_of_runs'] = [0,0,0,1,1,2,0,1,2,0]\n",
    "\n",
    "boxplot = df.boxplot(by='number_of_runs')\n",
    "plt.show()"
   ]
  },
  {
   "cell_type": "markdown",
   "id": "8a1ca8ea",
   "metadata": {},
   "source": [
    "## Scatterplot"
   ]
  },
  {
   "cell_type": "code",
   "execution_count": 98,
   "id": "407ce469",
   "metadata": {},
   "outputs": [
    {
     "data": {
      "image/png": "[encoded data removed]",
      "text/plain": [
       "<Figure size 432x288 with 1 Axes>"
      ]
     },
     "metadata": {
      "needs_background": "light"
     },
     "output_type": "display_data"
    }
   ],
   "source": [
    "# We load the data gain\n",
    "x = [3,8,3,4,1,7,5,3,8,2,7,3,1,6,10,10,3,6,5,10]\n",
    "y = [10,7,2,7,5,4,2,3,4,1,5,7,8,4,10,2,3,4,5,6]\n",
    "\n",
    "# Here, we build a simple scatterplot of the two variables\n",
    "plt.scatter(x,y)\n",
    "plt.xlabel('x')\n",
    "plt.ylabel('y')\n",
    "plt.title('Simple scatterplot')\n",
    "plt.show()"
   ]
  },
  {
   "cell_type": "markdown",
   "id": "a0ba2b91",
   "metadata": {},
   "source": [
    "Hard to tell which variable is what, but it gives an overall impression of the data."
   ]
  },
  {
   "cell_type": "code",
   "execution_count": 99,
   "id": "185f047e",
   "metadata": {},
   "outputs": [
    {
     "data": {
      "image/png": "[encoded data removed]",
      "text/plain": [
       "<Figure size 432x288 with 1 Axes>"
      ]
     },
     "metadata": {
      "needs_background": "light"
     },
     "output_type": "display_data"
    }
   ],
   "source": [
    "# A simple line plot\n",
    "\n",
    "# We use the plot function for this. 'o-' indicates we want to use circles for markers and connect them with lines\n",
    "plt.plot(x,'o-',color='blue',)\n",
    "\n",
    "# Here we use 'x--' for cross-shaped markers connected with intermittent lines\n",
    "plt.plot(y,'x--',color='red')\n",
    "plt.xlabel('Time')\n",
    "plt.ylabel('Value')\n",
    "plt.title(\"x and y over time\")\n",
    "\n",
    "# This function sets the range limits for the x axis at 0 and 20\n",
    "plt.xlim(0,20)\n",
    "\n",
    "# Adding a grid\n",
    "plt.grid(True)\n",
    "\n",
    "# Adding markets on the x and y axis. We start at zero, make our way to 10 (the last integer is not included,\n",
    "# hence we use 21 and 11)\n",
    "# We add steps of 4 for the x axis, and 4 for the y axis\n",
    "plt.xticks(range(0,21,4))\n",
    "plt.yticks(range(0,11,2))\n",
    "\n",
    "plt.show()"
   ]
  },
  {
   "cell_type": "code",
   "execution_count": null,
   "id": "45cfdba6",
   "metadata": {},
   "outputs": [],
   "source": []
  }
 ],
 "metadata": {
  "kernelspec": {
   "display_name": "Python 3",
   "language": "python",
   "name": "python3"
  },
  "language_info": {
   "codemirror_mode": {
    "name": "ipython",
    "version": 3
   },
   "file_extension": ".py",
   "mimetype": "text/x-python",
   "name": "python",
   "nbconvert_exporter": "python",
   "pygments_lexer": "ipython3",
   "version": "3.8.8"
  }
 },
 "nbformat": 4,
 "nbformat_minor": 5
}
