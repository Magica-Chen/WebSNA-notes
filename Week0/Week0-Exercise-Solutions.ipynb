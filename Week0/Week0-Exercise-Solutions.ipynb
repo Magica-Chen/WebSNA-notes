{
 "cells": [
  {
   "cell_type": "markdown",
   "id": "035825bb",
   "metadata": {},
   "source": [
    "# Exercise 1"
   ]
  },
  {
   "cell_type": "code",
   "execution_count": 1,
   "id": "b869ef13",
   "metadata": {},
   "outputs": [],
   "source": [
    "amount = 1000\n",
    "interest_rate = 0.1\n",
    "\n",
    "final_amount = 0"
   ]
  },
  {
   "cell_type": "markdown",
   "id": "dee69974",
   "metadata": {},
   "source": [
    "Use the base amount and interest rate to calculate the final amount after compound interest over 5 years."
   ]
  },
  {
   "cell_type": "code",
   "execution_count": 2,
   "id": "2b1def0f",
   "metadata": {},
   "outputs": [],
   "source": [
    "years = 5\n",
    "for year in range(0,years):\n",
    "    amount = amount * (1 + interest_rate)\n",
    "final_amount = amount"
   ]
  },
  {
   "cell_type": "code",
   "execution_count": 3,
   "id": "43cd10c5",
   "metadata": {},
   "outputs": [
    {
     "name": "stdout",
     "output_type": "stream",
     "text": [
      "The final amoutn is  1610.5100000000002\n"
     ]
    }
   ],
   "source": [
    "print('The final amoutn is ', final_amount)"
   ]
  },
  {
   "cell_type": "code",
   "execution_count": null,
   "id": "6ad5bb8b",
   "metadata": {},
   "outputs": [],
   "source": []
  },
  {
   "cell_type": "markdown",
   "id": "14c64a83",
   "metadata": {},
   "source": [
    "# Exercise 2"
   ]
  },
  {
   "cell_type": "markdown",
   "id": "2331b6db",
   "metadata": {},
   "source": [
    "Calculate how many years you need to obtain a certain amount (e.g. 2000) by starting with an initial amount (e.g. 1000) for a given interest rate (e.g. 2%)"
   ]
  },
  {
   "cell_type": "code",
   "execution_count": 4,
   "id": "ef99290b",
   "metadata": {},
   "outputs": [],
   "source": [
    "amount = 1000\n",
    "target = 2000\n",
    "interest_rate = 0.02\n",
    "\n",
    "number_of_years = 0"
   ]
  },
  {
   "cell_type": "code",
   "execution_count": 5,
   "id": "0b599cf8",
   "metadata": {},
   "outputs": [],
   "source": [
    "while amount < target:\n",
    "    amount = amount * (1 + interest_rate)\n",
    "    number_of_years += 1"
   ]
  },
  {
   "cell_type": "code",
   "execution_count": 6,
   "id": "3b5395e4",
   "metadata": {},
   "outputs": [
    {
     "name": "stdout",
     "output_type": "stream",
     "text": [
      "The number of years needed is  36\n"
     ]
    }
   ],
   "source": [
    "print('The number of years needed is ', number_of_years)"
   ]
  },
  {
   "cell_type": "code",
   "execution_count": null,
   "id": "7c746304",
   "metadata": {},
   "outputs": [],
   "source": []
  },
  {
   "cell_type": "markdown",
   "id": "f5a26653",
   "metadata": {},
   "source": [
    "# Exercise 3"
   ]
  },
  {
   "cell_type": "markdown",
   "id": "7e49c3f2",
   "metadata": {},
   "source": [
    "Remove the duplicates from this list:"
   ]
  },
  {
   "cell_type": "code",
   "execution_count": 7,
   "id": "0f933ad8",
   "metadata": {},
   "outputs": [],
   "source": [
    "name_list = [\"Johannes\", \"Jamal\", \"Jamal\", \"Johannes\", \"Galina\"]"
   ]
  },
  {
   "cell_type": "code",
   "execution_count": 8,
   "id": "3ff06123",
   "metadata": {},
   "outputs": [
    {
     "name": "stdout",
     "output_type": "stream",
     "text": [
      "['Johannes', 'Jamal', 'Galina']\n"
     ]
    }
   ],
   "source": [
    "# Simple algorhitmic solution\n",
    "\n",
    "def remove_duplicates(list_with_duplicates):\n",
    "    unique_names = []\n",
    "    for item in list_with_duplicates:\n",
    "        if item not in unique_names:\n",
    "            unique_names.append(item)\n",
    "    return unique_names\n",
    "\n",
    "print(remove_duplicates(name_list))"
   ]
  },
  {
   "cell_type": "code",
   "execution_count": 9,
   "id": "51dfe3d8",
   "metadata": {},
   "outputs": [
    {
     "name": "stdout",
     "output_type": "stream",
     "text": [
      "['Johannes', 'Jamal', 'Galina']\n"
     ]
    }
   ],
   "source": [
    "# Solution using Python's data structures (the fact that Set can't have repeated values)\n",
    "\n",
    "def remove_duplicates(list_with_duplicates):\n",
    "    unique_names = set(list_with_duplicates)\n",
    "    return list(unique_names)\n",
    "\n",
    "print(remove_duplicates(name_list))"
   ]
  },
  {
   "cell_type": "markdown",
   "id": "2c08c00a",
   "metadata": {},
   "source": [
    "# Exercise 4"
   ]
  },
  {
   "cell_type": "markdown",
   "id": "270c329a",
   "metadata": {},
   "source": [
    "Make a list of all the 4th and 6th letters of a word:"
   ]
  },
  {
   "cell_type": "code",
   "execution_count": 11,
   "id": "c9965f5f",
   "metadata": {},
   "outputs": [],
   "source": [
    "words = [\"Johannes\", \"Jamal\", \"Jamal\", \"Johannes\", \"Galina\"]\n",
    "new_list = []"
   ]
  },
  {
   "cell_type": "code",
   "execution_count": 12,
   "id": "7f1f1c16",
   "metadata": {},
   "outputs": [
    {
     "data": {
      "text/plain": [
       "['an', 'an', 'ia']"
      ]
     },
     "execution_count": 12,
     "metadata": {},
     "output_type": "execute_result"
    }
   ],
   "source": [
    "# you could just write a specific function that does what we're asked for.\n",
    "\n",
    "def only_keep_4th_and_6th_letter_from_words(all_words):\n",
    "    return [ f\"{word[3]}{word[5]}\"\n",
    "           for word in all_words\n",
    "           if len(word)>=6]\n",
    "\n",
    "only_keep_4th_and_6th_letter_from_words(words)\n",
    "# notice words shorter than 6 are ignored"
   ]
  },
  {
   "cell_type": "code",
   "execution_count": 13,
   "id": "fb886201",
   "metadata": {},
   "outputs": [
    {
     "name": "stdout",
     "output_type": "stream",
     "text": [
      "['J', 'J', 'J', 'J', 'G']\n",
      "['n', 'n', 'a']\n",
      "[]\n"
     ]
    }
   ],
   "source": [
    "# we could also explore other ways to solve it\n",
    "\n",
    "# intermediate, generic answer, for one letter would be\n",
    "\n",
    "def get_all_nth_letters(all_words, letter_index):\n",
    "    simplified_words = []\n",
    "    for word in all_words:\n",
    "        if letter_index < len(word):\n",
    "            simplified_words.append( word[letter_index] )\n",
    "    return simplified_words\n",
    "\n",
    "# test it\n",
    "print(get_all_nth_letters(words, 0))\n",
    "print(get_all_nth_letters(words, 5))\n",
    "print(get_all_nth_letters(words, 20))"
   ]
  },
  {
   "cell_type": "code",
   "execution_count": 14,
   "id": "5985b5ff",
   "metadata": {},
   "outputs": [
    {
     "data": {
      "text/plain": [
       "['an', 'a', 'a', 'an', 'ia']"
      ]
     },
     "execution_count": 14,
     "metadata": {},
     "output_type": "execute_result"
    }
   ],
   "source": [
    "# for many letters, generic\n",
    "\n",
    "def simplify_words_to_letters_at_indexes(all_words, list_of_indexes):\n",
    "    simplified_words = []\n",
    "    for word in all_words:\n",
    "        simplified_word = \"\"\n",
    "        for index in list_of_indexes:\n",
    "            if len(word) -1 < index:\n",
    "                break\n",
    "            simplified_word += word[index]\n",
    "        \n",
    "        simplified_words.append( simplified_word )\n",
    "    return simplified_words\n",
    "\n",
    "simplify_words_to_letters_at_indexes(words, [3,5])"
   ]
  },
  {
   "cell_type": "code",
   "execution_count": 15,
   "id": "bf92f8f6",
   "metadata": {},
   "outputs": [
    {
     "data": {
      "text/plain": [
       "['an', 'a', 'a', 'an', 'ia']"
      ]
     },
     "execution_count": 15,
     "metadata": {},
     "output_type": "execute_result"
    }
   ],
   "source": [
    "# and then you can call it in your own simpler function\n",
    "\n",
    "def only_keep_4th_and_6th_letter_from_words(all_words):\n",
    "    return simplify_words_to_letters_at_indexes(all_words, [3,5])\n",
    "\n",
    "only_keep_4th_and_6th_letter_from_words(words)"
   ]
  },
  {
   "cell_type": "code",
   "execution_count": 16,
   "id": "22c39b2a",
   "metadata": {},
   "outputs": [],
   "source": [
    "# as you can tell, the generic solution is often much more complicated and longer to write.\n",
    "\n",
    "# as a rule of thumb it is worth it when you will use a lot of different variations of that solution. \n",
    "# (eg. if you will require different letters at different indexes of different words many times in your code)"
   ]
  },
  {
   "cell_type": "code",
   "execution_count": null,
   "id": "344f8683",
   "metadata": {},
   "outputs": [],
   "source": []
  },
  {
   "cell_type": "markdown",
   "id": "a024752b",
   "metadata": {},
   "source": [
    "# Exercise 5"
   ]
  },
  {
   "cell_type": "markdown",
   "id": "2f899a6d",
   "metadata": {},
   "source": [
    "Create a list of temperatures in Fahrenheit from another list measured in Celsius using comprehensions:"
   ]
  },
  {
   "cell_type": "code",
   "execution_count": 17,
   "id": "468d0b2c",
   "metadata": {},
   "outputs": [],
   "source": [
    "celsius = [15, 18, 32, 19]\n",
    "\n",
    "# Fill in the right comprehension\n",
    "fahrenheit = [round((9/5)*x+32,0) for x in celsius]"
   ]
  },
  {
   "cell_type": "markdown",
   "id": "6ec26f73",
   "metadata": {},
   "source": [
    "Check the output:"
   ]
  },
  {
   "cell_type": "code",
   "execution_count": 18,
   "id": "cc7b09a0",
   "metadata": {},
   "outputs": [
    {
     "name": "stdout",
     "output_type": "stream",
     "text": [
      "[59.0, 64.0, 90.0, 66.0]\n"
     ]
    }
   ],
   "source": [
    "print(fahrenheit)"
   ]
  },
  {
   "cell_type": "code",
   "execution_count": null,
   "id": "158445b5",
   "metadata": {},
   "outputs": [],
   "source": []
  },
  {
   "cell_type": "markdown",
   "id": "b92bb511",
   "metadata": {},
   "source": [
    "# Exercise 6"
   ]
  },
  {
   "cell_type": "markdown",
   "id": "59dad336",
   "metadata": {},
   "source": [
    "Calculate how many years you need to obtain a certain amount by starting with an initial amount for a given interest rate"
   ]
  },
  {
   "cell_type": "code",
   "execution_count": 19,
   "id": "f73b3627",
   "metadata": {},
   "outputs": [],
   "source": [
    "amounts = [1000,1200,1300]\n",
    "target = 2000\n",
    "interest_rates = [0.02,0.05,0.1]"
   ]
  },
  {
   "cell_type": "markdown",
   "id": "d1389ed3",
   "metadata": {},
   "source": [
    "You can use your previous code from exercise 2 and reuse it in a function:"
   ]
  },
  {
   "cell_type": "code",
   "execution_count": 20,
   "id": "3b0d9ba7",
   "metadata": {},
   "outputs": [],
   "source": [
    "def calculate_no_of_years(amount, interest_rate):\n",
    "    number_of_years = 0\n",
    "    while amount < target:\n",
    "        amount *= (1 + interest_rate)\n",
    "        number_of_years += 1\n",
    "    return number_of_years"
   ]
  },
  {
   "cell_type": "code",
   "execution_count": 21,
   "id": "6262b082",
   "metadata": {},
   "outputs": [
    {
     "name": "stdout",
     "output_type": "stream",
     "text": [
      "1000 at 0.02 takes 36\n",
      "1000 at 0.05 takes 15\n",
      "1000 at 0.1 takes 8\n",
      "1200 at 0.02 takes 26\n",
      "1200 at 0.05 takes 11\n",
      "1200 at 0.1 takes 6\n",
      "1300 at 0.02 takes 22\n",
      "1300 at 0.05 takes 9\n",
      "1300 at 0.1 takes 5\n"
     ]
    }
   ],
   "source": [
    "for amount in amounts:\n",
    "    for ir in interest_rates:\n",
    "        number_of_years = calculate_no_of_years(amount, ir)\n",
    "        print(\"{} at {} takes {}\".format(str(amount),str(ir),str(number_of_years)))"
   ]
  },
  {
   "cell_type": "code",
   "execution_count": null,
   "id": "530384f3",
   "metadata": {},
   "outputs": [],
   "source": []
  },
  {
   "cell_type": "markdown",
   "id": "28fdbc00",
   "metadata": {},
   "source": [
    "# Exercise 7"
   ]
  },
  {
   "cell_type": "markdown",
   "id": "151f628d",
   "metadata": {},
   "source": [
    "Calculate the number of ECTS taught by every member in the dictionary"
   ]
  },
  {
   "cell_type": "code",
   "execution_count": 22,
   "id": "0466f1bd",
   "metadata": {},
   "outputs": [],
   "source": [
    "courses = {\"Johannes\" : \"Web Analytics\", \"Jamal\" : \"DEA\", \"Maurizio\" : \"Simulation\"}\n",
    "ects = {\"Web Analytics\": 15, \"DEA\": 15, \"Simulation\":15}"
   ]
  },
  {
   "cell_type": "code",
   "execution_count": 23,
   "id": "d35b5cb5",
   "metadata": {},
   "outputs": [
    {
     "name": "stdout",
     "output_type": "stream",
     "text": [
      "Johannes teaches 15 ECTS\n",
      "Jamal teaches 15 ECTS\n",
      "Maurizio teaches 15 ECTS\n"
     ]
    }
   ],
   "source": [
    "for organizer in courses:\n",
    "    organizer_ects = ects[courses[organizer]]\n",
    "    print(f\"{organizer} teaches {str(organizer_ects)} ECTS\")    "
   ]
  },
  {
   "cell_type": "code",
   "execution_count": null,
   "id": "a32b8a1a",
   "metadata": {},
   "outputs": [],
   "source": []
  },
  {
   "cell_type": "markdown",
   "id": "ee55fbf2",
   "metadata": {},
   "source": [
    "# Exercise 8"
   ]
  },
  {
   "cell_type": "markdown",
   "id": "885403e0",
   "metadata": {},
   "source": [
    "Find the most common letter at the third place in a word:"
   ]
  },
  {
   "cell_type": "code",
   "execution_count": 24,
   "id": "5c27229b",
   "metadata": {},
   "outputs": [],
   "source": [
    "words = [\"Johannes\", \"Jamal\", \"Jamal\", \"Adme\", \"Galina\"]"
   ]
  },
  {
   "cell_type": "code",
   "execution_count": 25,
   "id": "4e3afeae",
   "metadata": {},
   "outputs": [
    {
     "name": "stdout",
     "output_type": "stream",
     "text": [
      "{'h': 1, 'm': 3, 'l': 1}\n"
     ]
    }
   ],
   "source": [
    "letter_counts = {}\n",
    "for word in words:\n",
    "    if word[2] not in letter_counts.keys():\n",
    "        letter_counts[word[2]] = 0\n",
    "    letter_counts[word[2]] += 1\n",
    "print(letter_counts)"
   ]
  },
  {
   "cell_type": "code",
   "execution_count": null,
   "id": "5f0dc280",
   "metadata": {},
   "outputs": [],
   "source": []
  },
  {
   "cell_type": "markdown",
   "id": "31081adc",
   "metadata": {},
   "source": [
    "# Exercise 9"
   ]
  },
  {
   "cell_type": "markdown",
   "id": "cbbce752",
   "metadata": {},
   "source": [
    "In this exercise we are going to build a decision tree using scikit-learn and pandas. Code some stuff yourself, or find the available modules that can do it for you:"
   ]
  },
  {
   "cell_type": "code",
   "execution_count": 26,
   "id": "df470436",
   "metadata": {},
   "outputs": [],
   "source": [
    "import pandas as pd\n",
    "import numpy as np\n",
    "\n",
    "# Read csv with pandas, index indicates whether the first column is an index\n",
    "data = pd.read_csv(\"data/attrition.csv\", index_col=0)\n",
    "\n",
    "y = data['Attrition']\n",
    "X = data.drop('Attrition', axis=1)"
   ]
  },
  {
   "cell_type": "markdown",
   "id": "e5dcdc96",
   "metadata": {},
   "source": [
    "Write the pre-processing functions:"
   ]
  },
  {
   "cell_type": "code",
   "execution_count": 27,
   "id": "39ffefcb",
   "metadata": {},
   "outputs": [],
   "source": [
    "# Create training and test set with function\n",
    "from sklearn.model_selection import train_test_split\n",
    "\n",
    "def splitDataset(X, y, ratio):\n",
    "    return train_test_split(X, y, train_size = ratio)"
   ]
  },
  {
   "cell_type": "code",
   "execution_count": 28,
   "id": "0a64775d",
   "metadata": {},
   "outputs": [],
   "source": [
    "# Convert all attributes in data dataframe\n",
    "from sklearn.preprocessing import LabelEncoder\n",
    "\n",
    "def convertAttribute(column):\n",
    "    enc = LabelEncoder()\n",
    "    return enc.fit_transform(column)"
   ]
  },
  {
   "cell_type": "markdown",
   "id": "d44b0371",
   "metadata": {},
   "source": [
    "The pre-processsing:"
   ]
  },
  {
   "cell_type": "code",
   "execution_count": 29,
   "id": "5268a846",
   "metadata": {},
   "outputs": [],
   "source": [
    "# convert all categorical attributes\n",
    "for column in X.columns:\n",
    "    X[column] = convertAttribute(X[column])\n",
    "\n",
    "y = convertAttribute(y)\n",
    "\n",
    "# Use our new function to split according to a certain ratio\n",
    "train_X, test_X, train_y, test_y = splitDataset(X, y, 0.7)"
   ]
  },
  {
   "cell_type": "markdown",
   "id": "f987af99",
   "metadata": {},
   "source": [
    "Build decision tree and calculate accuracy:"
   ]
  },
  {
   "cell_type": "code",
   "execution_count": 35,
   "id": "31002378",
   "metadata": {},
   "outputs": [
    {
     "name": "stdout",
     "output_type": "stream",
     "text": [
      "0.7936507936507936\n"
     ]
    }
   ],
   "source": [
    "from sklearn.tree import DecisionTreeClassifier\n",
    "from sklearn.metrics import accuracy_score\n",
    "\n",
    "# Build tree\n",
    "dec_tree = DecisionTreeClassifier(criterion='gini')\n",
    "dec_tree.fit(train_X, train_y)\n",
    "\n",
    "## Use tree for prediction\n",
    "y_pred = dec_tree.predict(test_X)\n",
    "\n",
    "accuracy = accuracy_score(test_y, y_pred)\n",
    "print(accuracy)"
   ]
  },
  {
   "cell_type": "markdown",
   "id": "1852223d",
   "metadata": {},
   "source": [
    "The result will be different each time you run. To fix the result, you can do:"
   ]
  },
  {
   "cell_type": "code",
   "execution_count": 39,
   "id": "207aac4e",
   "metadata": {},
   "outputs": [
    {
     "name": "stdout",
     "output_type": "stream",
     "text": [
      "0.7959183673469388\n"
     ]
    }
   ],
   "source": [
    "import random\n",
    "\n",
    "random.seed(15)\n",
    "\n",
    "# Build tree\n",
    "dec_tree = DecisionTreeClassifier(criterion='gini')\n",
    "dec_tree.fit(train_X, train_y)\n",
    "\n",
    "## Use tree for prediction\n",
    "y_pred = dec_tree.predict(test_X)\n",
    "\n",
    "accuracy = accuracy_score(test_y, y_pred)\n",
    "print(accuracy)"
   ]
  },
  {
   "cell_type": "markdown",
   "id": "8501ef73",
   "metadata": {},
   "source": [
    "## AUC"
   ]
  },
  {
   "cell_type": "code",
   "execution_count": 40,
   "id": "39c44215",
   "metadata": {},
   "outputs": [
    {
     "name": "stdout",
     "output_type": "stream",
     "text": [
      "0.6016245909303414\n"
     ]
    }
   ],
   "source": [
    "##Some other metrics:\n",
    "from sklearn.metrics import roc_auc_score\n",
    "\n",
    "auc = roc_auc_score(test_y, y_pred)\n",
    "print(auc)"
   ]
  },
  {
   "cell_type": "markdown",
   "id": "c87c7430",
   "metadata": {},
   "source": [
    "## ROC curve"
   ]
  },
  {
   "cell_type": "code",
   "execution_count": 41,
   "id": "fb0c8c31",
   "metadata": {},
   "outputs": [],
   "source": [
    "import matplotlib.pyplot as plt\n",
    "from sklearn.metrics import roc_curve"
   ]
  },
  {
   "cell_type": "code",
   "execution_count": 42,
   "id": "7e08aef8",
   "metadata": {},
   "outputs": [
    {
     "name": "stdout",
     "output_type": "stream",
     "text": [
      "[2 1 0]\n"
     ]
    },
    {
     "data": {
      "image/png": "[encoded data removed]",
      "text/plain": [
       "<Figure size 432x288 with 1 Axes>"
      ]
     },
     "metadata": {
      "needs_background": "light"
     },
     "output_type": "display_data"
    }
   ],
   "source": [
    "fpr, tpr, thresholds = roc_curve(test_y, y_pred)\n",
    "print(thresholds)\n",
    "\n",
    "plt.plot(fpr, tpr)\n",
    "plt.xlabel('False positive rate')\n",
    "plt.ylabel('True positive rate')\n",
    "plt.show()"
   ]
  },
  {
   "cell_type": "code",
   "execution_count": null,
   "id": "e9769929",
   "metadata": {},
   "outputs": [],
   "source": []
  }
 ],
 "metadata": {
  "kernelspec": {
   "display_name": "Python 3",
   "language": "python",
   "name": "python3"
  },
  "language_info": {
   "codemirror_mode": {
    "name": "ipython",
    "version": 3
   },
   "file_extension": ".py",
   "mimetype": "text/x-python",
   "name": "python",
   "nbconvert_exporter": "python",
   "pygments_lexer": "ipython3",
   "version": "3.8.8"
  }
 },
 "nbformat": 4,
 "nbformat_minor": 5
}
